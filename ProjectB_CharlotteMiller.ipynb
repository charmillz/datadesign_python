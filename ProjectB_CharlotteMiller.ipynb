{
 "cells": [
  {
   "cell_type": "markdown",
   "metadata": {},
   "source": [
    "# Charlotte Miller: Project B_Web Scraping\n",
    "**February 9, 2018**\n",
    "\n"
   ]
  },
  {
   "cell_type": "code",
   "execution_count": 76,
   "metadata": {
    "collapsed": true
   },
   "outputs": [],
   "source": [
    "import requests\n",
    "k = requests.get('https://en.wikipedia.org/wiki/Stars_and_planetary_systems_in_fiction')"
   ]
  },
  {
   "cell_type": "code",
   "execution_count": 77,
   "metadata": {},
   "outputs": [
    {
     "name": "stdout",
     "output_type": "stream",
     "text": [
      "<!DOCTYPE html>\n",
      "<html class=\"client-nojs\" lang=\"en\" dir=\"ltr\">\n",
      "<head>\n",
      "<meta charset=\"UTF-8\"/>\n",
      "<title>Stars and planetary systems in fiction - Wikipedia</title>\n",
      "<script>document.documentElement.className = document.documentElement.className.replace( /(^|\\s)client-nojs(\\s|$)/, \"$1client-js$2\" );</script>\n",
      "<script>(window.RLQ=window.RLQ||[]).push(function(){mw.config.set({\"wgCanonicalNamespace\":\"\",\"wg\n"
     ]
    }
   ],
   "source": [
    "print(k.text[:400])"
   ]
  },
  {
   "cell_type": "code",
   "execution_count": 84,
   "metadata": {
    "collapsed": true
   },
   "outputs": [],
   "source": [
    "from bs4 import BeautifulSoup\n",
    "soup = BeautifulSoup(k.text, 'html.parser')"
   ]
  },
  {
   "cell_type": "code",
   "execution_count": 139,
   "metadata": {
    "collapsed": true
   },
   "outputs": [],
   "source": [
    "stars = soup.find_all('span', class_ = 'mw-headline')"
   ]
  },
  {
   "cell_type": "code",
   "execution_count": 140,
   "metadata": {},
   "outputs": [
    {
     "data": {
      "text/plain": [
       "170"
      ]
     },
     "execution_count": 140,
     "metadata": {},
     "output_type": "execute_result"
    }
   ],
   "source": [
    "len(stars)"
   ]
  },
  {
   "cell_type": "code",
   "execution_count": 141,
   "metadata": {},
   "outputs": [],
   "source": [
    "first_star = stars[0]"
   ]
  },
  {
   "cell_type": "code",
   "execution_count": 142,
   "metadata": {},
   "outputs": [
    {
     "data": {
      "text/plain": [
       "<span class=\"mw-headline\" id=\"Overview\">Overview</span>"
      ]
     },
     "execution_count": 142,
     "metadata": {},
     "output_type": "execute_result"
    }
   ],
   "source": [
    "first_star"
   ]
  },
  {
   "cell_type": "code",
   "execution_count": 111,
   "metadata": {},
   "outputs": [
    {
     "data": {
      "text/plain": [
       "<div style=\"clear: right; margin-bottom: .5em; float: right; padding: .5em 0 .8em 1.4em; background: none; width: auto;\">\n",
       "<div class=\"toc\" id=\"toc\">\n",
       "<div class=\"toctitle\" dir=\"ltr\" lang=\"en\" xml:lang=\"en\">\n",
       "<h2>Contents</h2>\n",
       "</div>\n",
       "<ul>\n",
       "<li class=\"toclevel-1 tocsection-1\"><a href=\"#Overview\"><span class=\"tocnumber\">1</span> <span class=\"toctext\">Overview</span></a>\n",
       "<ul>\n",
       "<li class=\"toclevel-2 tocsection-2\"><a href=\"#Planetary_romances\"><span class=\"tocnumber\">1.1</span> <span class=\"toctext\">Planetary romances</span></a></li>\n",
       "</ul>\n",
       "</li>\n",
       "<li class=\"toclevel-1 tocsection-3\"><a href=\"#General_uses_of_star_names\"><span class=\"tocnumber\">2</span> <span class=\"toctext\">General uses of star names</span></a></li>\n",
       "<li class=\"toclevel-1 tocsection-4\"><a href=\"#List_of_planetary_systems_in_fiction\"><span class=\"tocnumber\">3</span> <span class=\"toctext\">List of planetary systems in fiction</span></a>\n",
       "<ul>\n",
       "<li class=\"toclevel-2 tocsection-5\"><a href=\"#36_Ophiuchi\"><span class=\"tocnumber\">3.1</span> <span class=\"toctext\">36 Ophiuchi</span></a></li>\n",
       "<li class=\"toclevel-2 tocsection-6\"><a href=\"#40_(ο²)_Eridani_(Keid)\"><span class=\"tocnumber\">3.2</span> <span class=\"toctext\">40 (ο²) Eridani (Keid)</span></a></li>\n",
       "<li class=\"toclevel-2 tocsection-7\"><a href=\"#47_Ursae_Majoris_(Chalawan)[17]\"><span class=\"tocnumber\">3.3</span> <span class=\"toctext\">47 Ursae Majoris (Chalawan)<sup>[17]</sup></span></a></li>\n",
       "<li class=\"toclevel-2 tocsection-8\"><a href=\"#58_Eridani\"><span class=\"tocnumber\">3.4</span> <span class=\"toctext\">58 Eridani</span></a></li>\n",
       "<li class=\"toclevel-2 tocsection-9\"><a href=\"#61_Cygni\"><span class=\"tocnumber\">3.5</span> <span class=\"toctext\">61 Cygni</span></a></li>\n",
       "<li class=\"toclevel-2 tocsection-10\"><a href=\"#61_Ursae_Majoris\"><span class=\"tocnumber\">3.6</span> <span class=\"toctext\">61 Ursae Majoris</span></a></li>\n",
       "<li class=\"toclevel-2 tocsection-11\"><a href=\"#70_Ophiuchi\"><span class=\"tocnumber\">3.7</span> <span class=\"toctext\">70 Ophiuchi</span></a></li>\n",
       "<li class=\"toclevel-2 tocsection-12\"><a href=\"#82_Eridani\"><span class=\"tocnumber\">3.8</span> <span class=\"toctext\">82 Eridani</span></a></li>\n",
       "<li class=\"toclevel-2 tocsection-13\"><a href=\"#94_Aquarii\"><span class=\"tocnumber\">3.9</span> <span class=\"toctext\">94 Aquarii</span></a></li>\n",
       "<li class=\"toclevel-2 tocsection-14\"><a href=\"#107_Piscium\"><span class=\"tocnumber\">3.10</span> <span class=\"toctext\">107 Piscium</span></a></li>\n",
       "<li class=\"toclevel-2 tocsection-15\"><a href=\"#Acamar_(Theta_Eridani)\"><span class=\"tocnumber\">3.11</span> <span class=\"toctext\">Acamar (Theta Eridani)</span></a></li>\n",
       "<li class=\"toclevel-2 tocsection-16\"><a href=\"#Achernar_(Alpha_Eridani)\"><span class=\"tocnumber\">3.12</span> <span class=\"toctext\">Achernar (Alpha Eridani)</span></a></li>\n",
       "<li class=\"toclevel-2 tocsection-17\"><a href=\"#Aldebaran_(Alpha_Tauri)\"><span class=\"tocnumber\">3.13</span> <span class=\"toctext\">Aldebaran (Alpha Tauri)</span></a></li>\n",
       "<li class=\"toclevel-2 tocsection-18\"><a href=\"#Algenubi_(Epsilon_Leonis)\"><span class=\"tocnumber\">3.14</span> <span class=\"toctext\">Algenubi (Epsilon Leonis)</span></a></li>\n",
       "<li class=\"toclevel-2 tocsection-19\"><a href=\"#Algol_(Beta_Persei)\"><span class=\"tocnumber\">3.15</span> <span class=\"toctext\">Algol (Beta Persei)</span></a></li>\n",
       "<li class=\"toclevel-2 tocsection-20\"><a href=\"#Alhena_(Gamma_Geminorum)\"><span class=\"tocnumber\">3.16</span> <span class=\"toctext\">Alhena (Gamma Geminorum)</span></a></li>\n",
       "<li class=\"toclevel-2 tocsection-21\"><a href=\"#Alioth_(Epsilon_Ursae_Majoris)\"><span class=\"tocnumber\">3.17</span> <span class=\"toctext\">Alioth (Epsilon Ursae Majoris)</span></a></li>\n",
       "<li class=\"toclevel-2 tocsection-22\"><a href=\"#Alkalurops_(Mu_Boötis)\"><span class=\"tocnumber\">3.18</span> <span class=\"toctext\">Alkalurops (Mu Boötis)</span></a></li>\n",
       "<li class=\"toclevel-2 tocsection-23\"><a href=\"#Alnilam_(Epsilon_Orionis)\"><span class=\"tocnumber\">3.19</span> <span class=\"toctext\">Alnilam (Epsilon Orionis)</span></a></li>\n",
       "<li class=\"toclevel-2 tocsection-24\"><a href=\"#Alnitak_(Zeta_Orionis)\"><span class=\"tocnumber\">3.20</span> <span class=\"toctext\">Alnitak (Zeta Orionis)</span></a></li>\n",
       "<li class=\"toclevel-2 tocsection-25\"><a href=\"#Alpha_Arietis_(Hamal)\"><span class=\"tocnumber\">3.21</span> <span class=\"toctext\">Alpha Arietis (Hamal)</span></a></li>\n",
       "<li class=\"toclevel-2 tocsection-26\"><a href=\"#Alpha_Centauri_(Rigil_Kentaurus/Toliman)\"><span class=\"tocnumber\">3.22</span> <span class=\"toctext\">Alpha Centauri (Rigil Kentaurus/Toliman)</span></a></li>\n",
       "<li class=\"toclevel-2 tocsection-27\"><a href=\"#Alpha_Ceti_(Menkar_or_Menkab)\"><span class=\"tocnumber\">3.23</span> <span class=\"toctext\">Alpha Ceti (Menkar or Menkab)</span></a></li>\n",
       "<li class=\"toclevel-2 tocsection-28\"><a href=\"#Alpha_Coronae_Borealis_(Alphecca/Alphekka)\"><span class=\"tocnumber\">3.24</span> <span class=\"toctext\">Alpha Coronae Borealis (Alphecca/Alphekka)</span></a></li>\n",
       "<li class=\"toclevel-2 tocsection-29\"><a href=\"#Alpha_Draconis_(Thuban)\"><span class=\"tocnumber\">3.25</span> <span class=\"toctext\">Alpha Draconis (Thuban)</span></a></li>\n",
       "<li class=\"toclevel-2 tocsection-30\"><a href=\"#Alpha_Gruis_(Alnair)\"><span class=\"tocnumber\">3.26</span> <span class=\"toctext\">Alpha Gruis (Alnair)</span></a></li>\n",
       "<li class=\"toclevel-2 tocsection-31\"><a href=\"#Alpha_Hydri\"><span class=\"tocnumber\">3.27</span> <span class=\"toctext\">Alpha Hydri</span></a></li>\n",
       "<li class=\"toclevel-2 tocsection-32\"><a href=\"#Alpha_Mensae\"><span class=\"tocnumber\">3.28</span> <span class=\"toctext\">Alpha Mensae</span></a></li>\n",
       "<li class=\"toclevel-2 tocsection-33\"><a href=\"#Alpha_Pavonis_(Peacock)\"><span class=\"tocnumber\">3.29</span> <span class=\"toctext\">Alpha Pavonis (Peacock)</span></a></li>\n",
       "<li class=\"toclevel-2 tocsection-34\"><a href=\"#Alpha_Phoenicis_(Ankaa)\"><span class=\"tocnumber\">3.30</span> <span class=\"toctext\">Alpha Phoenicis (Ankaa)</span></a></li>\n",
       "<li class=\"toclevel-2 tocsection-35\"><a href=\"#Alpha_Trianguli_(Mothallah)\"><span class=\"tocnumber\">3.31</span> <span class=\"toctext\">Alpha Trianguli (Mothallah)</span></a></li>\n",
       "<li class=\"toclevel-2 tocsection-36\"><a href=\"#Alpha_Tucanae\"><span class=\"tocnumber\">3.32</span> <span class=\"toctext\">Alpha Tucanae</span></a></li>\n",
       "<li class=\"toclevel-2 tocsection-37\"><a href=\"#Altair_(Alpha_Aquilae)\"><span class=\"tocnumber\">3.33</span> <span class=\"toctext\">Altair (Alpha Aquilae)</span></a></li>\n",
       "<li class=\"toclevel-2 tocsection-38\"><a href=\"#Antares_(Alpha_Scorpii)\"><span class=\"tocnumber\">3.34</span> <span class=\"toctext\">Antares (Alpha Scorpii)</span></a></li>\n",
       "<li class=\"toclevel-2 tocsection-39\"><a href=\"#Arcturus_(Alpha_Boötis)\"><span class=\"tocnumber\">3.35</span> <span class=\"toctext\">Arcturus (Alpha Boötis)</span></a></li>\n",
       "<li class=\"toclevel-2 tocsection-40\"><a href=\"#Barnard's_Star\"><span class=\"tocnumber\">3.36</span> <span class=\"toctext\">Barnard's Star</span></a></li>\n",
       "<li class=\"toclevel-2 tocsection-41\"><a href=\"#Beta_Aquarii_(Sadalsuud)\"><span class=\"tocnumber\">3.37</span> <span class=\"toctext\">Beta Aquarii (Sadalsuud)</span></a></li>\n",
       "<li class=\"toclevel-2 tocsection-42\"><a href=\"#Beta_Aquilae_(Alshain)\"><span class=\"tocnumber\">3.38</span> <span class=\"toctext\">Beta Aquilae (Alshain)</span></a></li>\n",
       "<li class=\"toclevel-2 tocsection-43\"><a href=\"#Beta_Aurigae_(Menkalinan)\"><span class=\"tocnumber\">3.39</span> <span class=\"toctext\">Beta Aurigae (Menkalinan)</span></a></li>\n",
       "<li class=\"toclevel-2 tocsection-44\"><a href=\"#Beta_Caeli\"><span class=\"tocnumber\">3.40</span> <span class=\"toctext\">Beta Caeli</span></a></li>\n",
       "<li class=\"toclevel-2 tocsection-45\"><a href=\"#Beta_Canum_Venaticorum_(Chara)\"><span class=\"tocnumber\">3.41</span> <span class=\"toctext\">Beta Canum Venaticorum (Chara)</span></a></li>\n",
       "<li class=\"toclevel-2 tocsection-46\"><a href=\"#Beta_Corvi\"><span class=\"tocnumber\">3.42</span> <span class=\"toctext\">Beta Corvi</span></a></li>\n",
       "<li class=\"toclevel-2 tocsection-47\"><a href=\"#Beta_Draconis_(Rastaban)\"><span class=\"tocnumber\">3.43</span> <span class=\"toctext\">Beta Draconis (Rastaban)</span></a></li>\n",
       "<li class=\"toclevel-2 tocsection-48\"><a href=\"#Beta_Eridani_(Cursa)\"><span class=\"tocnumber\">3.44</span> <span class=\"toctext\">Beta Eridani (Cursa)</span></a></li>\n",
       "<li class=\"toclevel-2 tocsection-49\"><a href=\"#Beta_Fornacis\"><span class=\"tocnumber\">3.45</span> <span class=\"toctext\">Beta Fornacis</span></a></li>\n",
       "<li class=\"toclevel-2 tocsection-50\"><a href=\"#Beta_Hydri\"><span class=\"tocnumber\">3.46</span> <span class=\"toctext\">Beta Hydri</span></a></li>\n",
       "<li class=\"toclevel-2 tocsection-51\"><a href=\"#Beta_Leporis_(Nihal)\"><span class=\"tocnumber\">3.47</span> <span class=\"toctext\">Beta Leporis (Nihal)</span></a></li>\n",
       "<li class=\"toclevel-2 tocsection-52\"><a href=\"#Beta_Librae_(Zubeneschamali)\"><span class=\"tocnumber\">3.48</span> <span class=\"toctext\">Beta Librae (Zubeneschamali)</span></a></li>\n",
       "<li class=\"toclevel-2 tocsection-53\"><a href=\"#Beta_Pavonis\"><span class=\"tocnumber\">3.49</span> <span class=\"toctext\">Beta Pavonis</span></a></li>\n",
       "<li class=\"toclevel-2 tocsection-54\"><a href=\"#Beta_Phoenicis\"><span class=\"tocnumber\">3.50</span> <span class=\"toctext\">Beta Phoenicis</span></a></li>\n",
       "<li class=\"toclevel-2 tocsection-55\"><a href=\"#Beta_Pyxidis\"><span class=\"tocnumber\">3.51</span> <span class=\"toctext\">Beta Pyxidis</span></a></li>\n",
       "<li class=\"toclevel-2 tocsection-56\"><a href=\"#Beta_Tauri_(El_Nath)\"><span class=\"tocnumber\">3.52</span> <span class=\"toctext\">Beta Tauri (El Nath)</span></a></li>\n",
       "<li class=\"toclevel-2 tocsection-57\"><a href=\"#Beta_Virginis_(Zavijava)\"><span class=\"tocnumber\">3.53</span> <span class=\"toctext\">Beta Virginis (Zavijava)</span></a></li>\n",
       "<li class=\"toclevel-2 tocsection-58\"><a href=\"#Betelgeuse_(Alpha_Orionis)\"><span class=\"tocnumber\">3.54</span> <span class=\"toctext\">Betelgeuse (Alpha Orionis)</span></a></li>\n",
       "<li class=\"toclevel-2 tocsection-59\"><a href=\"#Canopus_(Alpha_Carinae)\"><span class=\"tocnumber\">3.55</span> <span class=\"toctext\">Canopus (Alpha Carinae)</span></a></li>\n",
       "<li class=\"toclevel-2 tocsection-60\"><a href=\"#Capella_(Alpha_Aurigae)\"><span class=\"tocnumber\">3.56</span> <span class=\"toctext\">Capella (Alpha Aurigae)</span></a></li>\n",
       "<li class=\"toclevel-2 tocsection-61\"><a href=\"#Caph_(Beta_Cassiopeiae)\"><span class=\"tocnumber\">3.57</span> <span class=\"toctext\">Caph (Beta Cassiopeiae)</span></a></li>\n",
       "<li class=\"toclevel-2 tocsection-62\"><a href=\"#Chi_Draconis\"><span class=\"tocnumber\">3.58</span> <span class=\"toctext\">Chi Draconis</span></a></li>\n",
       "<li class=\"toclevel-2 tocsection-63\"><a href=\"#CY_Aquarii\"><span class=\"tocnumber\">3.59</span> <span class=\"toctext\">CY Aquarii</span></a></li>\n",
       "<li class=\"toclevel-2 tocsection-64\"><a href=\"#Delta_Boötis_(Princeps)\"><span class=\"tocnumber\">3.60</span> <span class=\"toctext\">Delta Boötis (Princeps)</span></a></li>\n",
       "<li class=\"toclevel-2 tocsection-65\"><a href=\"#Delta_Cephei\"><span class=\"tocnumber\">3.61</span> <span class=\"toctext\">Delta Cephei</span></a></li>\n",
       "<li class=\"toclevel-2 tocsection-66\"><a href=\"#Delta_Crateris\"><span class=\"tocnumber\">3.62</span> <span class=\"toctext\">Delta Crateris</span></a></li>\n",
       "<li class=\"toclevel-2 tocsection-67\"><a href=\"#Delta_Draconis_(Altais)\"><span class=\"tocnumber\">3.63</span> <span class=\"toctext\">Delta Draconis (Altais)</span></a></li>\n",
       "<li class=\"toclevel-2 tocsection-68\"><a href=\"#Delta_Eridani\"><span class=\"tocnumber\">3.64</span> <span class=\"toctext\">Delta Eridani</span></a></li>\n",
       "<li class=\"toclevel-2 tocsection-69\"><a href=\"#Delta1_Gruis\"><span class=\"tocnumber\">3.65</span> <span class=\"toctext\">Delta1 Gruis</span></a></li>\n",
       "<li class=\"toclevel-2 tocsection-70\"><a href=\"#Delta_Pavonis\"><span class=\"tocnumber\">3.66</span> <span class=\"toctext\">Delta Pavonis</span></a></li>\n",
       "<li class=\"toclevel-2 tocsection-71\"><a href=\"#Delta_Phoenicis\"><span class=\"tocnumber\">3.67</span> <span class=\"toctext\">Delta Phoenicis</span></a></li>\n",
       "<li class=\"toclevel-2 tocsection-72\"><a href=\"#Delta_Sagittarii_(Kaus_Media)\"><span class=\"tocnumber\">3.68</span> <span class=\"toctext\">Delta Sagittarii (Kaus Media)</span></a></li>\n",
       "<li class=\"toclevel-2 tocsection-73\"><a href=\"#Deneb_(Alpha_Cygni)\"><span class=\"tocnumber\">3.69</span> <span class=\"toctext\">Deneb (Alpha Cygni)</span></a></li>\n",
       "<li class=\"toclevel-2 tocsection-74\"><a href=\"#Dorsum_(Theta_Capricorni)\"><span class=\"tocnumber\">3.70</span> <span class=\"toctext\">Dorsum (Theta Capricorni)</span></a></li>\n",
       "<li class=\"toclevel-2 tocsection-75\"><a href=\"#Ensis_(Eta_Orionis)\"><span class=\"tocnumber\">3.71</span> <span class=\"toctext\">Ensis (Eta Orionis)</span></a></li>\n",
       "<li class=\"toclevel-2 tocsection-76\"><a href=\"#Epsilon_Eridani_(Ran)[17]\"><span class=\"tocnumber\">3.72</span> <span class=\"toctext\">Epsilon Eridani (Ran)<sup>[17]</sup></span></a></li>\n",
       "<li class=\"toclevel-2 tocsection-77\"><a href=\"#Epsilon_Gruis\"><span class=\"tocnumber\">3.73</span> <span class=\"toctext\">Epsilon Gruis</span></a></li>\n",
       "<li class=\"toclevel-2 tocsection-78\"><a href=\"#Epsilon_Indi\"><span class=\"tocnumber\">3.74</span> <span class=\"toctext\">Epsilon Indi</span></a></li>\n",
       "<li class=\"toclevel-2 tocsection-79\"><a href=\"#Epsilon_Pegasi_(Enif)\"><span class=\"tocnumber\">3.75</span> <span class=\"toctext\">Epsilon Pegasi (Enif)</span></a></li>\n",
       "<li class=\"toclevel-2 tocsection-80\"><a href=\"#Epsilon_Scorpii_(Larawag)[17]\"><span class=\"tocnumber\">3.76</span> <span class=\"toctext\">Epsilon Scorpii (Larawag)<sup>[17]</sup></span></a></li>\n",
       "<li class=\"toclevel-2 tocsection-81\"><a href=\"#Eta_Boötis_(Mufrid)\"><span class=\"tocnumber\">3.77</span> <span class=\"toctext\">Eta Boötis (Mufrid)</span></a></li>\n",
       "<li class=\"toclevel-2 tocsection-82\"><a href=\"#Eta_Cassiopeiae_(Achird)\"><span class=\"tocnumber\">3.78</span> <span class=\"toctext\">Eta Cassiopeiae (Achird)</span></a></li>\n",
       "<li class=\"toclevel-2 tocsection-83\"><a href=\"#Eta_Pegasi_(Matar)\"><span class=\"tocnumber\">3.79</span> <span class=\"toctext\">Eta Pegasi (Matar)</span></a></li>\n",
       "<li class=\"toclevel-2 tocsection-84\"><a href=\"#Fomalhaut_(Alpha_Piscis_Austrini)\"><span class=\"tocnumber\">3.80</span> <span class=\"toctext\">Fomalhaut (Alpha Piscis Austrini)</span></a></li>\n",
       "<li class=\"toclevel-2 tocsection-85\"><a href=\"#Gamma_Andromedae_(Almach)\"><span class=\"tocnumber\">3.81</span> <span class=\"toctext\">Gamma Andromedae (Almach)</span></a></li>\n",
       "<li class=\"toclevel-2 tocsection-86\"><a href=\"#Gamma_Crateris\"><span class=\"tocnumber\">3.82</span> <span class=\"toctext\">Gamma Crateris</span></a></li>\n",
       "<li class=\"toclevel-2 tocsection-87\"><a href=\"#Gamma_Draconis_(Etamin_/_Eltanin)\"><span class=\"tocnumber\">3.83</span> <span class=\"toctext\">Gamma Draconis (Etamin / Eltanin)</span></a></li>\n",
       "<li class=\"toclevel-2 tocsection-88\"><a href=\"#Gamma_Hydrae\"><span class=\"tocnumber\">3.84</span> <span class=\"toctext\">Gamma Hydrae</span></a></li>\n",
       "<li class=\"toclevel-2 tocsection-89\"><a href=\"#Gamma_Leporis\"><span class=\"tocnumber\">3.85</span> <span class=\"toctext\">Gamma Leporis</span></a></li>\n",
       "<li class=\"toclevel-2 tocsection-90\"><a href=\"#Gamma_Orionis_(Bellatrix)\"><span class=\"tocnumber\">3.86</span> <span class=\"toctext\">Gamma Orionis (Bellatrix)</span></a></li>\n",
       "<li class=\"toclevel-2 tocsection-91\"><a href=\"#Gamma_Serpentis\"><span class=\"tocnumber\">3.87</span> <span class=\"toctext\">Gamma Serpentis</span></a></li>\n",
       "<li class=\"toclevel-2 tocsection-92\"><a href=\"#Gamma_Trianguli\"><span class=\"tocnumber\">3.88</span> <span class=\"toctext\">Gamma Trianguli</span></a></li>\n",
       "<li class=\"toclevel-2 tocsection-93\"><a href=\"#Gliese_catalog_of_stars\"><span class=\"tocnumber\">3.89</span> <span class=\"toctext\">Gliese catalog of stars</span></a></li>\n",
       "<li class=\"toclevel-2 tocsection-94\"><a href=\"#Gliese_581_(GJ_581,_Wolf_562)\"><span class=\"tocnumber\">3.90</span> <span class=\"toctext\">Gliese 581 (GJ 581, Wolf 562)</span></a></li>\n",
       "<li class=\"toclevel-2 tocsection-95\"><a href=\"#Gliese_687_(GJ_687)\"><span class=\"tocnumber\">3.91</span> <span class=\"toctext\">Gliese 687 (GJ 687)</span></a></li>\n",
       "<li class=\"toclevel-2 tocsection-96\"><a href=\"#Gliese_754\"><span class=\"tocnumber\">3.92</span> <span class=\"toctext\">Gliese 754</span></a></li>\n",
       "<li class=\"toclevel-2 tocsection-97\"><a href=\"#Gliese_876_(Ross_780)\"><span class=\"tocnumber\">3.93</span> <span class=\"toctext\">Gliese 876 (Ross 780)</span></a></li>\n",
       "<li class=\"toclevel-2 tocsection-98\"><a href=\"#Gliese_1061_(LHS_1565)\"><span class=\"tocnumber\">3.94</span> <span class=\"toctext\">Gliese 1061 (LHS 1565)</span></a></li>\n",
       "<li class=\"toclevel-2 tocsection-99\"><a href=\"#Gliese_3707_(LHS_2520)\"><span class=\"tocnumber\">3.95</span> <span class=\"toctext\">Gliese 3707 (LHS 2520)</span></a></li>\n",
       "<li class=\"toclevel-2 tocsection-100\"><a href=\"#Groombridge_34\"><span class=\"tocnumber\">3.96</span> <span class=\"toctext\">Groombridge 34</span></a></li>\n",
       "<li class=\"toclevel-2 tocsection-101\"><a href=\"#Groombridge_1618\"><span class=\"tocnumber\">3.97</span> <span class=\"toctext\">Groombridge 1618</span></a></li>\n",
       "<li class=\"toclevel-2 tocsection-102\"><a href=\"#Iota_Antliae\"><span class=\"tocnumber\">3.98</span> <span class=\"toctext\">Iota Antliae</span></a></li>\n",
       "<li class=\"toclevel-2 tocsection-103\"><a href=\"#Iota_Geminorum\"><span class=\"tocnumber\">3.99</span> <span class=\"toctext\">Iota Geminorum</span></a></li>\n",
       "<li class=\"toclevel-2 tocsection-104\"><a href=\"#Iota_Horologii_(Gliese_108)\"><span class=\"tocnumber\">3.100</span> <span class=\"toctext\">Iota Horologii (Gliese 108)</span></a></li>\n",
       "<li class=\"toclevel-2 tocsection-105\"><a href=\"#Iota_Persei\"><span class=\"tocnumber\">3.101</span> <span class=\"toctext\">Iota Persei</span></a></li>\n",
       "<li class=\"toclevel-2 tocsection-106\"><a href=\"#Izar_(Epsilon_Boötis)\"><span class=\"tocnumber\">3.102</span> <span class=\"toctext\">Izar (Epsilon Boötis)</span></a></li>\n",
       "<li class=\"toclevel-2 tocsection-107\"><a href=\"#Kappa_Coronae_Borealis\"><span class=\"tocnumber\">3.103</span> <span class=\"toctext\">Kappa Coronae Borealis</span></a></li>\n",
       "<li class=\"toclevel-2 tocsection-108\"><a href=\"#Kapteyn's_Star\"><span class=\"tocnumber\">3.104</span> <span class=\"toctext\">Kapteyn's Star</span></a></li>\n",
       "<li class=\"toclevel-2 tocsection-109\"><a href=\"#Kruger_60_(DO_Cephei)\"><span class=\"tocnumber\">3.105</span> <span class=\"toctext\">Kruger 60 (DO Cephei)</span></a></li>\n",
       "<li class=\"toclevel-2 tocsection-110\"><a href=\"#Lacaille_9352\"><span class=\"tocnumber\">3.106</span> <span class=\"toctext\">Lacaille 9352</span></a></li>\n",
       "<li class=\"toclevel-2 tocsection-111\"><a href=\"#Lalande_21185_(Gliese_411)\"><span class=\"tocnumber\">3.107</span> <span class=\"toctext\">Lalande 21185 (Gliese 411)</span></a></li>\n",
       "<li class=\"toclevel-2 tocsection-112\"><a href=\"#Lalande_46650\"><span class=\"tocnumber\">3.108</span> <span class=\"toctext\">Lalande 46650</span></a></li>\n",
       "<li class=\"toclevel-2 tocsection-113\"><a href=\"#Lambda_Scorpii_(Shaula)\"><span class=\"tocnumber\">3.109</span> <span class=\"toctext\">Lambda Scorpii (Shaula)</span></a></li>\n",
       "<li class=\"toclevel-2 tocsection-114\"><a href=\"#Lambda_Serpentis\"><span class=\"tocnumber\">3.110</span> <span class=\"toctext\">Lambda Serpentis</span></a></li>\n",
       "<li class=\"toclevel-2 tocsection-115\"><a href=\"#Luyten's_Star\"><span class=\"tocnumber\">3.111</span> <span class=\"toctext\">Luyten's Star</span></a></li>\n",
       "<li class=\"toclevel-2 tocsection-116\"><a href=\"#Maia_(20_Tauri)\"><span class=\"tocnumber\">3.112</span> <span class=\"toctext\">Maia (20 Tauri)</span></a></li>\n",
       "<li class=\"toclevel-2 tocsection-117\"><a href=\"#Markab_/_Markeb_(Kappa_Velorum)\"><span class=\"tocnumber\">3.113</span> <span class=\"toctext\">Markab / Markeb (Kappa Velorum)</span></a></li>\n",
       "<li class=\"toclevel-2 tocsection-118\"><a href=\"#Mintaka_(Delta_Orionis)\"><span class=\"tocnumber\">3.114</span> <span class=\"toctext\">Mintaka (Delta Orionis)</span></a></li>\n",
       "<li class=\"toclevel-2 tocsection-119\"><a href=\"#Mira_(Omicron_Ceti)\"><span class=\"tocnumber\">3.115</span> <span class=\"toctext\">Mira (Omicron Ceti)</span></a></li>\n",
       "<li class=\"toclevel-2 tocsection-120\"><a href=\"#Mirach_(Beta_Andromedae)\"><span class=\"tocnumber\">3.116</span> <span class=\"toctext\">Mirach (Beta Andromedae)</span></a></li>\n",
       "<li class=\"toclevel-2 tocsection-121\"><a href=\"#Mizar_(Zeta_Ursae_Majoris)\"><span class=\"tocnumber\">3.117</span> <span class=\"toctext\">Mizar (Zeta Ursae Majoris)</span></a></li>\n",
       "<li class=\"toclevel-2 tocsection-122\"><a href=\"#Mu_Capricorni\"><span class=\"tocnumber\">3.118</span> <span class=\"toctext\">Mu Capricorni</span></a></li>\n",
       "<li class=\"toclevel-2 tocsection-123\"><a href=\"#Mu_Cassiopeiae\"><span class=\"tocnumber\">3.119</span> <span class=\"toctext\">Mu Cassiopeiae</span></a></li>\n",
       "<li class=\"toclevel-2 tocsection-124\"><a href=\"#Mu_Herculis\"><span class=\"tocnumber\">3.120</span> <span class=\"toctext\">Mu Herculis</span></a></li>\n",
       "<li class=\"toclevel-2 tocsection-125\"><a href=\"#Nu_Ophiuchi\"><span class=\"tocnumber\">3.121</span> <span class=\"toctext\">Nu Ophiuchi</span></a></li>\n",
       "<li class=\"toclevel-2 tocsection-126\"><a href=\"#Omicron_Persei_(Al_Atik)\"><span class=\"tocnumber\">3.122</span> <span class=\"toctext\">Omicron Persei (Al Atik)</span></a></li>\n",
       "<li class=\"toclevel-2 tocsection-127\"><a href=\"#p_Eridani_(Gliese_66)\"><span class=\"tocnumber\">3.123</span> <span class=\"toctext\">p Eridani (Gliese 66)</span></a></li>\n",
       "<li class=\"toclevel-2 tocsection-128\"><a href=\"#Phecda_(Gamma_Ursae_Majoris)\"><span class=\"tocnumber\">3.124</span> <span class=\"toctext\">Phecda (Gamma Ursae Majoris)</span></a></li>\n",
       "<li class=\"toclevel-2 tocsection-129\"><a href=\"#Phi_Ophiuchi_(8_Ophiuchi)\"><span class=\"tocnumber\">3.125</span> <span class=\"toctext\">Phi Ophiuchi (8 Ophiuchi)</span></a></li>\n",
       "<li class=\"toclevel-2 tocsection-130\"><a href=\"#Phi_Orionis_(φ1_or_φ2)\"><span class=\"tocnumber\">3.126</span> <span class=\"toctext\">Phi Orionis (φ<sup>1</sup> or φ<sup>2</sup>)</span></a></li>\n",
       "<li class=\"toclevel-2 tocsection-131\"><a href=\"#Polaris_(Alpha_Ursae_Minoris)\"><span class=\"tocnumber\">3.127</span> <span class=\"toctext\">Polaris (Alpha Ursae Minoris)</span></a></li>\n",
       "<li class=\"toclevel-2 tocsection-132\"><a href=\"#Pollux_(Beta_Geminorum)\"><span class=\"tocnumber\">3.128</span> <span class=\"toctext\">Pollux (Beta Geminorum)</span></a></li>\n",
       "<li class=\"toclevel-2 tocsection-133\"><a href=\"#Procyon_(Alpha_Canis_Minoris)\"><span class=\"tocnumber\">3.129</span> <span class=\"toctext\">Procyon (Alpha Canis Minoris)</span></a></li>\n",
       "<li class=\"toclevel-2 tocsection-134\"><a href=\"#Proxima_Centauri_(Alpha_Centauri_C)\"><span class=\"tocnumber\">3.130</span> <span class=\"toctext\">Proxima Centauri (Alpha Centauri C)</span></a></li>\n",
       "<li class=\"toclevel-2 tocsection-135\"><a href=\"#Regulus_(Alpha_Leonis)\"><span class=\"tocnumber\">3.131</span> <span class=\"toctext\">Regulus (Alpha Leonis)</span></a></li>\n",
       "<li class=\"toclevel-2 tocsection-136\"><a href=\"#Rigel_(Beta_Orionis)\"><span class=\"tocnumber\">3.132</span> <span class=\"toctext\">Rigel (Beta Orionis)</span></a></li>\n",
       "<li class=\"toclevel-2 tocsection-137\"><a href=\"#Ross_catalog_of_stars\"><span class=\"tocnumber\">3.133</span> <span class=\"toctext\">Ross catalog of stars</span></a></li>\n",
       "<li class=\"toclevel-2 tocsection-138\"><a href=\"#Ross_128_(FI_Virginis)\"><span class=\"tocnumber\">3.134</span> <span class=\"toctext\">Ross 128 (FI Virginis)</span></a></li>\n",
       "<li class=\"toclevel-2 tocsection-139\"><a href=\"#Ross_154_(V1216_Sagittarii)\"><span class=\"tocnumber\">3.135</span> <span class=\"toctext\">Ross 154 (V1216 Sagittarii)</span></a></li>\n",
       "<li class=\"toclevel-2 tocsection-140\"><a href=\"#Ross_248_(HH_Andromedae)\"><span class=\"tocnumber\">3.136</span> <span class=\"toctext\">Ross 248 (HH Andromedae)</span></a></li>\n",
       "<li class=\"toclevel-2 tocsection-141\"><a href=\"#Ross_780_(Gliese_876)\"><span class=\"tocnumber\">3.137</span> <span class=\"toctext\">Ross 780 (Gliese 876)</span></a></li>\n",
       "<li class=\"toclevel-2 tocsection-142\"><a href=\"#Rukbat_(Alpha_Sagittarii)\"><span class=\"tocnumber\">3.138</span> <span class=\"toctext\">Rukbat (Alpha Sagittarii)</span></a></li>\n",
       "<li class=\"toclevel-2 tocsection-143\"><a href=\"#Sheliak_(Beta_Lyrae)\"><span class=\"tocnumber\">3.139</span> <span class=\"toctext\">Sheliak (Beta Lyrae)</span></a></li>\n",
       "<li class=\"toclevel-2 tocsection-144\"><a href=\"#Sigma_Draconis_(Alsafi)\"><span class=\"tocnumber\">3.140</span> <span class=\"toctext\">Sigma Draconis (Alsafi)</span></a></li>\n",
       "<li class=\"toclevel-2 tocsection-145\"><a href=\"#Sigma_Sculptoris\"><span class=\"tocnumber\">3.141</span> <span class=\"toctext\">Sigma Sculptoris</span></a></li>\n",
       "<li class=\"toclevel-2 tocsection-146\"><a href=\"#Sirius_(Alpha_Canis_Majoris)\"><span class=\"tocnumber\">3.142</span> <span class=\"toctext\">Sirius (Alpha Canis Majoris)</span></a></li>\n",
       "<li class=\"toclevel-2 tocsection-147\"><a href=\"#Spica_(Alpha_Virginis)\"><span class=\"tocnumber\">3.143</span> <span class=\"toctext\">Spica (Alpha Virginis)</span></a></li>\n",
       "<li class=\"toclevel-2 tocsection-148\"><a href=\"#T_Coronae_Borealis\"><span class=\"tocnumber\">3.144</span> <span class=\"toctext\">T Coronae Borealis</span></a></li>\n",
       "<li class=\"toclevel-2 tocsection-149\"><a href=\"#Tau_Ceti\"><span class=\"tocnumber\">3.145</span> <span class=\"toctext\">Tau Ceti</span></a></li>\n",
       "<li class=\"toclevel-2 tocsection-150\"><a href=\"#Tau_Coronae_Borealis\"><span class=\"tocnumber\">3.146</span> <span class=\"toctext\">Tau Coronae Borealis</span></a></li>\n",
       "<li class=\"toclevel-2 tocsection-151\"><a href=\"#Tau_Cygni\"><span class=\"tocnumber\">3.147</span> <span class=\"toctext\">Tau Cygni</span></a></li>\n",
       "<li class=\"toclevel-2 tocsection-152\"><a href=\"#Theta_Centauri_(Menkent)\"><span class=\"tocnumber\">3.148</span> <span class=\"toctext\">Theta Centauri (Menkent)</span></a></li>\n",
       "<li class=\"toclevel-2 tocsection-153\"><a href=\"#Theta_Hydrae\"><span class=\"tocnumber\">3.149</span> <span class=\"toctext\">Theta Hydrae</span></a></li>\n",
       "<li class=\"toclevel-2 tocsection-154\"><a href=\"#Theta_Ursae_Majoris\"><span class=\"tocnumber\">3.150</span> <span class=\"toctext\">Theta Ursae Majoris</span></a></li>\n",
       "<li class=\"toclevel-2 tocsection-155\"><a href=\"#Unukalhai_(Alpha_Serpentis)\"><span class=\"tocnumber\">3.151</span> <span class=\"toctext\">Unukalhai (Alpha Serpentis)</span></a></li>\n",
       "<li class=\"toclevel-2 tocsection-156\"><a href=\"#UV_Ceti_(Luyten_726–8)\"><span class=\"tocnumber\">3.152</span> <span class=\"toctext\">UV Ceti (Luyten 726–8)</span></a></li>\n",
       "<li class=\"toclevel-2 tocsection-157\"><a href=\"#Van_Maanen's_Star_(Gliese_35)\"><span class=\"tocnumber\">3.153</span> <span class=\"toctext\">Van Maanen's Star (Gliese 35)</span></a></li>\n",
       "<li class=\"toclevel-2 tocsection-158\"><a href=\"#Vega_(Alpha_Lyrae)\"><span class=\"tocnumber\">3.154</span> <span class=\"toctext\">Vega (Alpha Lyrae)</span></a></li>\n",
       "<li class=\"toclevel-2 tocsection-159\"><a href=\"#Wolf_359_(CN_Leonis)\"><span class=\"tocnumber\">3.155</span> <span class=\"toctext\">Wolf 359 (CN Leonis)</span></a></li>\n",
       "<li class=\"toclevel-2 tocsection-160\"><a href=\"#Xi_Puppis\"><span class=\"tocnumber\">3.156</span> <span class=\"toctext\">Xi Puppis</span></a></li>\n",
       "<li class=\"toclevel-2 tocsection-161\"><a href=\"#Zeta_Aquilae\"><span class=\"tocnumber\">3.157</span> <span class=\"toctext\">Zeta Aquilae</span></a></li>\n",
       "<li class=\"toclevel-2 tocsection-162\"><a href=\"#Zeta_Draconis_(Aldhibah)[17]\"><span class=\"tocnumber\">3.158</span> <span class=\"toctext\">Zeta Draconis (Aldhibah)<sup>[17]</sup></span></a></li>\n",
       "<li class=\"toclevel-2 tocsection-163\"><a href=\"#Zeta_Ophiuchi\"><span class=\"tocnumber\">3.159</span> <span class=\"toctext\">Zeta Ophiuchi</span></a></li>\n",
       "<li class=\"toclevel-2 tocsection-164\"><a href=\"#Zeta_Persei_(Menkib)\"><span class=\"tocnumber\">3.160</span> <span class=\"toctext\">Zeta Persei (Menkib)</span></a></li>\n",
       "<li class=\"toclevel-2 tocsection-165\"><a href=\"#Zeta_Reticuli\"><span class=\"tocnumber\">3.161</span> <span class=\"toctext\">Zeta Reticuli</span></a></li>\n",
       "<li class=\"toclevel-2 tocsection-166\"><a href=\"#Zeta_Tucanae\"><span class=\"tocnumber\">3.162</span> <span class=\"toctext\">Zeta Tucanae</span></a></li>\n",
       "</ul>\n",
       "</li>\n",
       "<li class=\"toclevel-1 tocsection-167\"><a href=\"#See_also\"><span class=\"tocnumber\">4</span> <span class=\"toctext\">See also</span></a></li>\n",
       "<li class=\"toclevel-1 tocsection-168\"><a href=\"#Notes_and_references\"><span class=\"tocnumber\">5</span> <span class=\"toctext\">Notes and references</span></a>\n",
       "<ul>\n",
       "<li class=\"toclevel-2 tocsection-169\"><a href=\"#Notes\"><span class=\"tocnumber\">5.1</span> <span class=\"toctext\">Notes</span></a></li>\n",
       "<li class=\"toclevel-2 tocsection-170\"><a href=\"#References\"><span class=\"tocnumber\">5.2</span> <span class=\"toctext\">References</span></a></li>\n",
       "</ul>\n",
       "</li>\n",
       "</ul>\n",
       "</div>\n",
       "</div>"
      ]
     },
     "execution_count": 111,
     "metadata": {},
     "output_type": "execute_result"
    }
   ],
   "source": [
    "first_star.div"
   ]
  },
  {
   "cell_type": "code",
   "execution_count": 148,
   "metadata": {},
   "outputs": [
    {
     "data": {
      "text/plain": [
       "<li class=\"toclevel-1 tocsection-1\"><a href=\"#Overview\"><span class=\"tocnumber\">1</span> <span class=\"toctext\">Overview</span></a>\n",
       "<ul>\n",
       "<li class=\"toclevel-2 tocsection-2\"><a href=\"#Planetary_romances\"><span class=\"tocnumber\">1.1</span> <span class=\"toctext\">Planetary romances</span></a></li>\n",
       "</ul>\n",
       "</li>"
      ]
     },
     "execution_count": 148,
     "metadata": {},
     "output_type": "execute_result"
    }
   ],
   "source": [
    "first_list"
   ]
  },
  {
   "cell_type": "code",
   "execution_count": 136,
   "metadata": {},
   "outputs": [
    {
     "data": {
      "text/plain": [
       "'1 Overview\\n\\n1.1 Planetary romances\\n\\n'"
      ]
     },
     "execution_count": 136,
     "metadata": {},
     "output_type": "execute_result"
    }
   ],
   "source": [
    "first_list.text"
   ]
  },
  {
   "cell_type": "code",
   "execution_count": 149,
   "metadata": {
    "collapsed": true
   },
   "outputs": [],
   "source": [
    "table = []\n",
    "for i in stars:\n",
    "    fact = i.text\n",
    "    table.append(fact)"
   ]
  },
  {
   "cell_type": "code",
   "execution_count": 150,
   "metadata": {},
   "outputs": [
    {
     "data": {
      "text/plain": [
       "170"
      ]
     },
     "execution_count": 150,
     "metadata": {},
     "output_type": "execute_result"
    }
   ],
   "source": [
    "len(table)"
   ]
  },
  {
   "cell_type": "code",
   "execution_count": 151,
   "metadata": {},
   "outputs": [
    {
     "data": {
      "text/plain": [
       "['Overview',\n",
       " 'Planetary romances',\n",
       " 'General uses of star names',\n",
       " 'List of planetary systems in fiction',\n",
       " '36 Ophiuchi']"
      ]
     },
     "execution_count": 151,
     "metadata": {},
     "output_type": "execute_result"
    }
   ],
   "source": [
    "table[:5]"
   ]
  },
  {
   "cell_type": "code",
   "execution_count": 152,
   "metadata": {
    "collapsed": true
   },
   "outputs": [],
   "source": [
    "import pandas as pd\n",
    "df = pd.DataFrame(table, columns=['Stars and Planetary Systems in Fiction'])"
   ]
  },
  {
   "cell_type": "code",
   "execution_count": 153,
   "metadata": {},
   "outputs": [
    {
     "data": {
      "text/html": [
       "<div>\n",
       "<style>\n",
       "    .dataframe thead tr:only-child th {\n",
       "        text-align: right;\n",
       "    }\n",
       "\n",
       "    .dataframe thead th {\n",
       "        text-align: left;\n",
       "    }\n",
       "\n",
       "    .dataframe tbody tr th {\n",
       "        vertical-align: top;\n",
       "    }\n",
       "</style>\n",
       "<table border=\"1\" class=\"dataframe\">\n",
       "  <thead>\n",
       "    <tr style=\"text-align: right;\">\n",
       "      <th></th>\n",
       "      <th>Stars and Planetary Systems in Fiction</th>\n",
       "    </tr>\n",
       "  </thead>\n",
       "  <tbody>\n",
       "    <tr>\n",
       "      <th>0</th>\n",
       "      <td>Overview</td>\n",
       "    </tr>\n",
       "    <tr>\n",
       "      <th>1</th>\n",
       "      <td>Planetary romances</td>\n",
       "    </tr>\n",
       "    <tr>\n",
       "      <th>2</th>\n",
       "      <td>General uses of star names</td>\n",
       "    </tr>\n",
       "    <tr>\n",
       "      <th>3</th>\n",
       "      <td>List of planetary systems in fiction</td>\n",
       "    </tr>\n",
       "    <tr>\n",
       "      <th>4</th>\n",
       "      <td>36 Ophiuchi</td>\n",
       "    </tr>\n",
       "  </tbody>\n",
       "</table>\n",
       "</div>"
      ],
      "text/plain": [
       "  Stars and Planetary Systems in Fiction\n",
       "0                               Overview\n",
       "1                     Planetary romances\n",
       "2             General uses of star names\n",
       "3   List of planetary systems in fiction\n",
       "4                            36 Ophiuchi"
      ]
     },
     "execution_count": 153,
     "metadata": {},
     "output_type": "execute_result"
    }
   ],
   "source": [
    "df.head()"
   ]
  },
  {
   "cell_type": "code",
   "execution_count": 154,
   "metadata": {
    "collapsed": true
   },
   "outputs": [],
   "source": [
    "df.to_csv('stars_and_planets.csv', index=False, encoding='utf-8')"
   ]
  },
  {
   "cell_type": "code",
   "execution_count": 156,
   "metadata": {},
   "outputs": [
    {
     "data": {
      "text/html": [
       "<div>\n",
       "<style>\n",
       "    .dataframe thead tr:only-child th {\n",
       "        text-align: right;\n",
       "    }\n",
       "\n",
       "    .dataframe thead th {\n",
       "        text-align: left;\n",
       "    }\n",
       "\n",
       "    .dataframe tbody tr th {\n",
       "        vertical-align: top;\n",
       "    }\n",
       "</style>\n",
       "<table border=\"1\" class=\"dataframe\">\n",
       "  <thead>\n",
       "    <tr style=\"text-align: right;\">\n",
       "      <th></th>\n",
       "      <th>Stars and Planetary Systems in Fiction</th>\n",
       "    </tr>\n",
       "  </thead>\n",
       "  <tbody>\n",
       "    <tr>\n",
       "      <th>0</th>\n",
       "      <td>Overview</td>\n",
       "    </tr>\n",
       "    <tr>\n",
       "      <th>1</th>\n",
       "      <td>Planetary romances</td>\n",
       "    </tr>\n",
       "    <tr>\n",
       "      <th>2</th>\n",
       "      <td>General uses of star names</td>\n",
       "    </tr>\n",
       "    <tr>\n",
       "      <th>3</th>\n",
       "      <td>List of planetary systems in fiction</td>\n",
       "    </tr>\n",
       "    <tr>\n",
       "      <th>4</th>\n",
       "      <td>36 Ophiuchi</td>\n",
       "    </tr>\n",
       "    <tr>\n",
       "      <th>5</th>\n",
       "      <td>40 (ο²) Eridani (Keid)</td>\n",
       "    </tr>\n",
       "    <tr>\n",
       "      <th>6</th>\n",
       "      <td>47 Ursae Majoris (Chalawan)[17]</td>\n",
       "    </tr>\n",
       "    <tr>\n",
       "      <th>7</th>\n",
       "      <td>58 Eridani</td>\n",
       "    </tr>\n",
       "    <tr>\n",
       "      <th>8</th>\n",
       "      <td>61 Cygni</td>\n",
       "    </tr>\n",
       "    <tr>\n",
       "      <th>9</th>\n",
       "      <td>61 Ursae Majoris</td>\n",
       "    </tr>\n",
       "    <tr>\n",
       "      <th>10</th>\n",
       "      <td>70 Ophiuchi</td>\n",
       "    </tr>\n",
       "    <tr>\n",
       "      <th>11</th>\n",
       "      <td>82 Eridani</td>\n",
       "    </tr>\n",
       "    <tr>\n",
       "      <th>12</th>\n",
       "      <td>94 Aquarii</td>\n",
       "    </tr>\n",
       "    <tr>\n",
       "      <th>13</th>\n",
       "      <td>107 Piscium</td>\n",
       "    </tr>\n",
       "    <tr>\n",
       "      <th>14</th>\n",
       "      <td>Acamar (Theta Eridani)</td>\n",
       "    </tr>\n",
       "    <tr>\n",
       "      <th>15</th>\n",
       "      <td>Achernar (Alpha Eridani)</td>\n",
       "    </tr>\n",
       "    <tr>\n",
       "      <th>16</th>\n",
       "      <td>Aldebaran (Alpha Tauri)</td>\n",
       "    </tr>\n",
       "    <tr>\n",
       "      <th>17</th>\n",
       "      <td>Algenubi (Epsilon Leonis)</td>\n",
       "    </tr>\n",
       "    <tr>\n",
       "      <th>18</th>\n",
       "      <td>Algol (Beta Persei)</td>\n",
       "    </tr>\n",
       "    <tr>\n",
       "      <th>19</th>\n",
       "      <td>Alhena (Gamma Geminorum)</td>\n",
       "    </tr>\n",
       "    <tr>\n",
       "      <th>20</th>\n",
       "      <td>Alioth (Epsilon Ursae Majoris)</td>\n",
       "    </tr>\n",
       "    <tr>\n",
       "      <th>21</th>\n",
       "      <td>Alkalurops (Mu Boötis)</td>\n",
       "    </tr>\n",
       "    <tr>\n",
       "      <th>22</th>\n",
       "      <td>Alnilam (Epsilon Orionis)</td>\n",
       "    </tr>\n",
       "    <tr>\n",
       "      <th>23</th>\n",
       "      <td>Alnitak (Zeta Orionis)</td>\n",
       "    </tr>\n",
       "    <tr>\n",
       "      <th>24</th>\n",
       "      <td>Alpha Arietis (Hamal)</td>\n",
       "    </tr>\n",
       "    <tr>\n",
       "      <th>25</th>\n",
       "      <td>Alpha Centauri (Rigil Kentaurus/Toliman)</td>\n",
       "    </tr>\n",
       "    <tr>\n",
       "      <th>26</th>\n",
       "      <td>Alpha Ceti (Menkar or Menkab)</td>\n",
       "    </tr>\n",
       "    <tr>\n",
       "      <th>27</th>\n",
       "      <td>Alpha Coronae Borealis (Alphecca/Alphekka)</td>\n",
       "    </tr>\n",
       "    <tr>\n",
       "      <th>28</th>\n",
       "      <td>Alpha Draconis (Thuban)</td>\n",
       "    </tr>\n",
       "    <tr>\n",
       "      <th>29</th>\n",
       "      <td>Alpha Gruis (Alnair)</td>\n",
       "    </tr>\n",
       "    <tr>\n",
       "      <th>...</th>\n",
       "      <td>...</td>\n",
       "    </tr>\n",
       "    <tr>\n",
       "      <th>70</th>\n",
       "      <td>Delta Phoenicis</td>\n",
       "    </tr>\n",
       "    <tr>\n",
       "      <th>71</th>\n",
       "      <td>Delta Sagittarii (Kaus Media)</td>\n",
       "    </tr>\n",
       "    <tr>\n",
       "      <th>72</th>\n",
       "      <td>Deneb (Alpha Cygni)</td>\n",
       "    </tr>\n",
       "    <tr>\n",
       "      <th>73</th>\n",
       "      <td>Dorsum (Theta Capricorni)</td>\n",
       "    </tr>\n",
       "    <tr>\n",
       "      <th>74</th>\n",
       "      <td>Ensis (Eta Orionis)</td>\n",
       "    </tr>\n",
       "    <tr>\n",
       "      <th>75</th>\n",
       "      <td>Epsilon Eridani (Ran)[17]</td>\n",
       "    </tr>\n",
       "    <tr>\n",
       "      <th>76</th>\n",
       "      <td>Epsilon Gruis</td>\n",
       "    </tr>\n",
       "    <tr>\n",
       "      <th>77</th>\n",
       "      <td>Epsilon Indi</td>\n",
       "    </tr>\n",
       "    <tr>\n",
       "      <th>78</th>\n",
       "      <td>Epsilon Pegasi (Enif)</td>\n",
       "    </tr>\n",
       "    <tr>\n",
       "      <th>79</th>\n",
       "      <td>Epsilon Scorpii (Larawag)[17]</td>\n",
       "    </tr>\n",
       "    <tr>\n",
       "      <th>80</th>\n",
       "      <td>Eta Boötis (Mufrid)</td>\n",
       "    </tr>\n",
       "    <tr>\n",
       "      <th>81</th>\n",
       "      <td>Eta Cassiopeiae (Achird)</td>\n",
       "    </tr>\n",
       "    <tr>\n",
       "      <th>82</th>\n",
       "      <td>Eta Pegasi (Matar)</td>\n",
       "    </tr>\n",
       "    <tr>\n",
       "      <th>83</th>\n",
       "      <td>Fomalhaut (Alpha Piscis Austrini)</td>\n",
       "    </tr>\n",
       "    <tr>\n",
       "      <th>84</th>\n",
       "      <td>Gamma Andromedae (Almach)</td>\n",
       "    </tr>\n",
       "    <tr>\n",
       "      <th>85</th>\n",
       "      <td>Gamma Crateris</td>\n",
       "    </tr>\n",
       "    <tr>\n",
       "      <th>86</th>\n",
       "      <td>Gamma Draconis (Etamin / Eltanin)</td>\n",
       "    </tr>\n",
       "    <tr>\n",
       "      <th>87</th>\n",
       "      <td>Gamma Hydrae</td>\n",
       "    </tr>\n",
       "    <tr>\n",
       "      <th>88</th>\n",
       "      <td>Gamma Leporis</td>\n",
       "    </tr>\n",
       "    <tr>\n",
       "      <th>89</th>\n",
       "      <td>Gamma Orionis (Bellatrix)</td>\n",
       "    </tr>\n",
       "    <tr>\n",
       "      <th>90</th>\n",
       "      <td>Gamma Serpentis</td>\n",
       "    </tr>\n",
       "    <tr>\n",
       "      <th>91</th>\n",
       "      <td>Gamma Trianguli</td>\n",
       "    </tr>\n",
       "    <tr>\n",
       "      <th>92</th>\n",
       "      <td>Gliese catalog of stars</td>\n",
       "    </tr>\n",
       "    <tr>\n",
       "      <th>93</th>\n",
       "      <td>Gliese 581 (GJ 581, Wolf 562)</td>\n",
       "    </tr>\n",
       "    <tr>\n",
       "      <th>94</th>\n",
       "      <td>Gliese 687 (GJ 687)</td>\n",
       "    </tr>\n",
       "    <tr>\n",
       "      <th>95</th>\n",
       "      <td>Gliese 754</td>\n",
       "    </tr>\n",
       "    <tr>\n",
       "      <th>96</th>\n",
       "      <td>Gliese 876 (Ross 780)</td>\n",
       "    </tr>\n",
       "    <tr>\n",
       "      <th>97</th>\n",
       "      <td>Gliese 1061 (LHS 1565)</td>\n",
       "    </tr>\n",
       "    <tr>\n",
       "      <th>98</th>\n",
       "      <td>Gliese 3707 (LHS 2520)</td>\n",
       "    </tr>\n",
       "    <tr>\n",
       "      <th>99</th>\n",
       "      <td>Groombridge 34</td>\n",
       "    </tr>\n",
       "  </tbody>\n",
       "</table>\n",
       "<p>100 rows × 1 columns</p>\n",
       "</div>"
      ],
      "text/plain": [
       "        Stars and Planetary Systems in Fiction\n",
       "0                                     Overview\n",
       "1                           Planetary romances\n",
       "2                   General uses of star names\n",
       "3         List of planetary systems in fiction\n",
       "4                                  36 Ophiuchi\n",
       "5                       40 (ο²) Eridani (Keid)\n",
       "6              47 Ursae Majoris (Chalawan)[17]\n",
       "7                                   58 Eridani\n",
       "8                                     61 Cygni\n",
       "9                             61 Ursae Majoris\n",
       "10                                 70 Ophiuchi\n",
       "11                                  82 Eridani\n",
       "12                                  94 Aquarii\n",
       "13                                 107 Piscium\n",
       "14                      Acamar (Theta Eridani)\n",
       "15                    Achernar (Alpha Eridani)\n",
       "16                     Aldebaran (Alpha Tauri)\n",
       "17                   Algenubi (Epsilon Leonis)\n",
       "18                         Algol (Beta Persei)\n",
       "19                    Alhena (Gamma Geminorum)\n",
       "20              Alioth (Epsilon Ursae Majoris)\n",
       "21                      Alkalurops (Mu Boötis)\n",
       "22                   Alnilam (Epsilon Orionis)\n",
       "23                      Alnitak (Zeta Orionis)\n",
       "24                       Alpha Arietis (Hamal)\n",
       "25    Alpha Centauri (Rigil Kentaurus/Toliman)\n",
       "26               Alpha Ceti (Menkar or Menkab)\n",
       "27  Alpha Coronae Borealis (Alphecca/Alphekka)\n",
       "28                     Alpha Draconis (Thuban)\n",
       "29                        Alpha Gruis (Alnair)\n",
       "..                                         ...\n",
       "70                             Delta Phoenicis\n",
       "71               Delta Sagittarii (Kaus Media)\n",
       "72                         Deneb (Alpha Cygni)\n",
       "73                   Dorsum (Theta Capricorni)\n",
       "74                         Ensis (Eta Orionis)\n",
       "75                   Epsilon Eridani (Ran)[17]\n",
       "76                               Epsilon Gruis\n",
       "77                                Epsilon Indi\n",
       "78                       Epsilon Pegasi (Enif)\n",
       "79               Epsilon Scorpii (Larawag)[17]\n",
       "80                         Eta Boötis (Mufrid)\n",
       "81                    Eta Cassiopeiae (Achird)\n",
       "82                          Eta Pegasi (Matar)\n",
       "83           Fomalhaut (Alpha Piscis Austrini)\n",
       "84                   Gamma Andromedae (Almach)\n",
       "85                              Gamma Crateris\n",
       "86           Gamma Draconis (Etamin / Eltanin)\n",
       "87                                Gamma Hydrae\n",
       "88                               Gamma Leporis\n",
       "89                   Gamma Orionis (Bellatrix)\n",
       "90                             Gamma Serpentis\n",
       "91                             Gamma Trianguli\n",
       "92                     Gliese catalog of stars\n",
       "93               Gliese 581 (GJ 581, Wolf 562)\n",
       "94                         Gliese 687 (GJ 687)\n",
       "95                                  Gliese 754\n",
       "96                       Gliese 876 (Ross 780)\n",
       "97                      Gliese 1061 (LHS 1565)\n",
       "98                      Gliese 3707 (LHS 2520)\n",
       "99                              Groombridge 34\n",
       "\n",
       "[100 rows x 1 columns]"
      ]
     },
     "execution_count": 156,
     "metadata": {},
     "output_type": "execute_result"
    }
   ],
   "source": [
    "df.head(100)"
   ]
  },
  {
   "cell_type": "code",
   "execution_count": null,
   "metadata": {
    "collapsed": true
   },
   "outputs": [],
   "source": []
  }
 ],
 "metadata": {
  "kernelspec": {
   "display_name": "Python 3",
   "language": "python",
   "name": "python3"
  },
  "language_info": {
   "codemirror_mode": {
    "name": "ipython",
    "version": 3
   },
   "file_extension": ".py",
   "mimetype": "text/x-python",
   "name": "python",
   "nbconvert_exporter": "python",
   "pygments_lexer": "ipython3",
   "version": "3.6.3"
  }
 },
 "nbformat": 4,
 "nbformat_minor": 2
}
