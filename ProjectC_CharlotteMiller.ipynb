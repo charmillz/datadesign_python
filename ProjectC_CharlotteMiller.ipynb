{
 "cells": [
  {
   "cell_type": "markdown",
   "metadata": {},
   "source": [
    "# Charlotte Miller: Project C_NLTK\n",
    "**February 16, 2018**\n"
   ]
  },
  {
   "cell_type": "code",
   "execution_count": 75,
   "metadata": {
    "collapsed": true
   },
   "outputs": [],
   "source": [
    "%matplotlib inline\n",
    "import matplotlib.pyplot as plt\n",
    "import requests"
   ]
  },
  {
   "cell_type": "code",
   "execution_count": 76,
   "metadata": {
    "collapsed": true
   },
   "outputs": [],
   "source": [
    "from bs4 import BeautifulSoup"
   ]
  },
  {
   "cell_type": "code",
   "execution_count": 77,
   "metadata": {
    "collapsed": true
   },
   "outputs": [],
   "source": [
    "from urllib import request"
   ]
  },
  {
   "cell_type": "code",
   "execution_count": 78,
   "metadata": {
    "collapsed": true
   },
   "outputs": [],
   "source": [
    "url = \"http://www.gutenberg.org/cache/epub/1497/pg1497.txt\""
   ]
  },
  {
   "cell_type": "code",
   "execution_count": 79,
   "metadata": {
    "collapsed": true
   },
   "outputs": [],
   "source": [
    "response = requests.get(url)"
   ]
  },
  {
   "cell_type": "code",
   "execution_count": 80,
   "metadata": {},
   "outputs": [
    {
     "data": {
      "text/plain": [
       "requests.models.Response"
      ]
     },
     "execution_count": 80,
     "metadata": {},
     "output_type": "execute_result"
    }
   ],
   "source": [
    "type(response)"
   ]
  },
  {
   "cell_type": "code",
   "execution_count": 81,
   "metadata": {},
   "outputs": [
    {
     "data": {
      "text/plain": [
       "<Response [200]>"
      ]
     },
     "execution_count": 81,
     "metadata": {},
     "output_type": "execute_result"
    }
   ],
   "source": [
    "response"
   ]
  },
  {
   "cell_type": "code",
   "execution_count": 82,
   "metadata": {
    "collapsed": true
   },
   "outputs": [],
   "source": [
    "soup_dos = BeautifulSoup(response.content, \"html.parser\")"
   ]
  },
  {
   "cell_type": "code",
   "execution_count": 83,
   "metadata": {},
   "outputs": [
    {
     "data": {
      "text/plain": [
       "1"
      ]
     },
     "execution_count": 83,
     "metadata": {},
     "output_type": "execute_result"
    }
   ],
   "source": [
    "len(soup_dos)"
   ]
  },
  {
   "cell_type": "code",
   "execution_count": 84,
   "metadata": {
    "collapsed": true
   },
   "outputs": [],
   "source": [
    "dos_text = soup_dos.get_text()"
   ]
  },
  {
   "cell_type": "code",
   "execution_count": 85,
   "metadata": {},
   "outputs": [
    {
     "data": {
      "text/plain": [
       "str"
      ]
     },
     "execution_count": 85,
     "metadata": {},
     "output_type": "execute_result"
    }
   ],
   "source": [
    "type(dos_text)"
   ]
  },
  {
   "cell_type": "code",
   "execution_count": 86,
   "metadata": {},
   "outputs": [
    {
     "data": {
      "text/plain": [
       "1239078"
      ]
     },
     "execution_count": 86,
     "metadata": {},
     "output_type": "execute_result"
    }
   ],
   "source": [
    "len(dos_text)"
   ]
  },
  {
   "cell_type": "code",
   "execution_count": 87,
   "metadata": {},
   "outputs": [
    {
     "data": {
      "text/plain": [
       "'The Project Gutenberg EBook of The Republic, by Plato\\r\\n\\r\\nThis eBook is for the use of anyone anywher'"
      ]
     },
     "execution_count": 87,
     "metadata": {},
     "output_type": "execute_result"
    }
   ],
   "source": [
    "dos_text[:100]"
   ]
  },
  {
   "cell_type": "markdown",
   "metadata": {},
   "source": [
    "## Tokenize"
   ]
  },
  {
   "cell_type": "code",
   "execution_count": 88,
   "metadata": {
    "collapsed": true
   },
   "outputs": [],
   "source": [
    "import nltk\n",
    "from nltk import word_tokenize\n",
    "tokens = word_tokenize(dos_text)"
   ]
  },
  {
   "cell_type": "code",
   "execution_count": 89,
   "metadata": {
    "collapsed": true
   },
   "outputs": [],
   "source": [
    "text = nltk.Text(tokens)"
   ]
  },
  {
   "cell_type": "code",
   "execution_count": 90,
   "metadata": {},
   "outputs": [
    {
     "data": {
      "text/plain": [
       "['The',\n",
       " 'Project',\n",
       " 'Gutenberg',\n",
       " 'EBook',\n",
       " 'of',\n",
       " 'The',\n",
       " 'Republic',\n",
       " ',',\n",
       " 'by',\n",
       " 'Plato']"
      ]
     },
     "execution_count": 90,
     "metadata": {},
     "output_type": "execute_result"
    }
   ],
   "source": [
    "tokens[:10]"
   ]
  },
  {
   "cell_type": "markdown",
   "metadata": {},
   "source": [
    "## Removed Punctuation"
   ]
  },
  {
   "cell_type": "code",
   "execution_count": 91,
   "metadata": {
    "collapsed": true
   },
   "outputs": [],
   "source": [
    "import re"
   ]
  },
  {
   "cell_type": "code",
   "execution_count": 92,
   "metadata": {
    "collapsed": true
   },
   "outputs": [],
   "source": [
    "ds = '\\w+'"
   ]
  },
  {
   "cell_type": "code",
   "execution_count": 93,
   "metadata": {},
   "outputs": [],
   "source": [
    "wordsp = re.findall(ds, dos_text)"
   ]
  },
  {
   "cell_type": "code",
   "execution_count": 94,
   "metadata": {},
   "outputs": [
    {
     "data": {
      "text/plain": [
       "['The',\n",
       " 'Project',\n",
       " 'Gutenberg',\n",
       " 'EBook',\n",
       " 'of',\n",
       " 'The',\n",
       " 'Republic',\n",
       " 'by',\n",
       " 'Plato',\n",
       " 'This']"
      ]
     },
     "execution_count": 94,
     "metadata": {},
     "output_type": "execute_result"
    }
   ],
   "source": [
    "wordsp[:10]"
   ]
  },
  {
   "cell_type": "markdown",
   "metadata": {},
   "source": [
    "## Lowercase"
   ]
  },
  {
   "cell_type": "code",
   "execution_count": 95,
   "metadata": {},
   "outputs": [
    {
     "data": {
      "text/plain": [
       "['The',\n",
       " 'Project',\n",
       " 'Gutenberg',\n",
       " 'EBook',\n",
       " 'of',\n",
       " 'The',\n",
       " 'Republic',\n",
       " ',',\n",
       " 'by',\n",
       " 'Plato']"
      ]
     },
     "execution_count": 95,
     "metadata": {},
     "output_type": "execute_result"
    }
   ],
   "source": [
    "tokens[:10]"
   ]
  },
  {
   "cell_type": "code",
   "execution_count": 96,
   "metadata": {
    "collapsed": true
   },
   "outputs": [],
   "source": [
    " words = [w.lower() for w in wordsp]"
   ]
  },
  {
   "cell_type": "code",
   "execution_count": 97,
   "metadata": {},
   "outputs": [
    {
     "data": {
      "text/plain": [
       "list"
      ]
     },
     "execution_count": 97,
     "metadata": {},
     "output_type": "execute_result"
    }
   ],
   "source": [
    "type(words)"
   ]
  },
  {
   "cell_type": "code",
   "execution_count": 98,
   "metadata": {},
   "outputs": [
    {
     "data": {
      "text/plain": [
       "['the',\n",
       " 'project',\n",
       " 'gutenberg',\n",
       " 'ebook',\n",
       " 'of',\n",
       " 'the',\n",
       " 'republic',\n",
       " 'by',\n",
       " 'plato',\n",
       " 'this']"
      ]
     },
     "execution_count": 98,
     "metadata": {},
     "output_type": "execute_result"
    }
   ],
   "source": [
    "words[:10]"
   ]
  },
  {
   "cell_type": "markdown",
   "metadata": {},
   "source": [
    "## Stopwords"
   ]
  },
  {
   "cell_type": "code",
   "execution_count": 99,
   "metadata": {
    "collapsed": true
   },
   "outputs": [],
   "source": [
    "from nltk.corpus import stopwords"
   ]
  },
  {
   "cell_type": "code",
   "execution_count": 100,
   "metadata": {},
   "outputs": [
    {
     "data": {
      "text/plain": [
       "{'a',\n",
       " 'about',\n",
       " 'above',\n",
       " 'after',\n",
       " 'again',\n",
       " 'against',\n",
       " 'ain',\n",
       " 'all',\n",
       " 'am',\n",
       " 'an',\n",
       " 'and',\n",
       " 'any',\n",
       " 'are',\n",
       " 'aren',\n",
       " \"aren't\",\n",
       " 'as',\n",
       " 'at',\n",
       " 'be',\n",
       " 'because',\n",
       " 'been',\n",
       " 'before',\n",
       " 'being',\n",
       " 'below',\n",
       " 'between',\n",
       " 'both',\n",
       " 'but',\n",
       " 'by',\n",
       " 'can',\n",
       " 'couldn',\n",
       " \"couldn't\",\n",
       " 'd',\n",
       " 'did',\n",
       " 'didn',\n",
       " \"didn't\",\n",
       " 'do',\n",
       " 'does',\n",
       " 'doesn',\n",
       " \"doesn't\",\n",
       " 'doing',\n",
       " 'don',\n",
       " \"don't\",\n",
       " 'down',\n",
       " 'during',\n",
       " 'each',\n",
       " 'few',\n",
       " 'for',\n",
       " 'from',\n",
       " 'further',\n",
       " 'had',\n",
       " 'hadn',\n",
       " \"hadn't\",\n",
       " 'has',\n",
       " 'hasn',\n",
       " \"hasn't\",\n",
       " 'have',\n",
       " 'haven',\n",
       " \"haven't\",\n",
       " 'having',\n",
       " 'he',\n",
       " 'her',\n",
       " 'here',\n",
       " 'hers',\n",
       " 'herself',\n",
       " 'him',\n",
       " 'himself',\n",
       " 'his',\n",
       " 'how',\n",
       " 'i',\n",
       " 'if',\n",
       " 'in',\n",
       " 'into',\n",
       " 'is',\n",
       " 'isn',\n",
       " \"isn't\",\n",
       " 'it',\n",
       " \"it's\",\n",
       " 'its',\n",
       " 'itself',\n",
       " 'just',\n",
       " 'll',\n",
       " 'm',\n",
       " 'ma',\n",
       " 'me',\n",
       " 'mightn',\n",
       " \"mightn't\",\n",
       " 'more',\n",
       " 'most',\n",
       " 'mustn',\n",
       " \"mustn't\",\n",
       " 'my',\n",
       " 'myself',\n",
       " 'needn',\n",
       " \"needn't\",\n",
       " 'no',\n",
       " 'nor',\n",
       " 'not',\n",
       " 'now',\n",
       " 'o',\n",
       " 'of',\n",
       " 'off',\n",
       " 'on',\n",
       " 'once',\n",
       " 'only',\n",
       " 'or',\n",
       " 'other',\n",
       " 'our',\n",
       " 'ours',\n",
       " 'ourselves',\n",
       " 'out',\n",
       " 'over',\n",
       " 'own',\n",
       " 're',\n",
       " 's',\n",
       " 'same',\n",
       " 'shan',\n",
       " \"shan't\",\n",
       " 'she',\n",
       " \"she's\",\n",
       " 'should',\n",
       " \"should've\",\n",
       " 'shouldn',\n",
       " \"shouldn't\",\n",
       " 'so',\n",
       " 'some',\n",
       " 'such',\n",
       " 't',\n",
       " 'than',\n",
       " 'that',\n",
       " \"that'll\",\n",
       " 'the',\n",
       " 'their',\n",
       " 'theirs',\n",
       " 'them',\n",
       " 'themselves',\n",
       " 'then',\n",
       " 'there',\n",
       " 'these',\n",
       " 'they',\n",
       " 'this',\n",
       " 'those',\n",
       " 'through',\n",
       " 'to',\n",
       " 'too',\n",
       " 'under',\n",
       " 'until',\n",
       " 'up',\n",
       " 've',\n",
       " 'very',\n",
       " 'was',\n",
       " 'wasn',\n",
       " \"wasn't\",\n",
       " 'we',\n",
       " 'were',\n",
       " 'weren',\n",
       " \"weren't\",\n",
       " 'what',\n",
       " 'when',\n",
       " 'where',\n",
       " 'which',\n",
       " 'while',\n",
       " 'who',\n",
       " 'whom',\n",
       " 'why',\n",
       " 'will',\n",
       " 'with',\n",
       " 'won',\n",
       " \"won't\",\n",
       " 'wouldn',\n",
       " \"wouldn't\",\n",
       " 'y',\n",
       " 'you',\n",
       " \"you'd\",\n",
       " \"you'll\",\n",
       " \"you're\",\n",
       " \"you've\",\n",
       " 'your',\n",
       " 'yours',\n",
       " 'yourself',\n",
       " 'yourselves'}"
      ]
     },
     "execution_count": 100,
     "metadata": {},
     "output_type": "execute_result"
    }
   ],
   "source": [
    "set(stopwords.words('english'))"
   ]
  },
  {
   "cell_type": "code",
   "execution_count": 101,
   "metadata": {
    "collapsed": true
   },
   "outputs": [],
   "source": [
    "stop_words = set(stopwords.words('english'))"
   ]
  },
  {
   "cell_type": "code",
   "execution_count": 102,
   "metadata": {
    "collapsed": true
   },
   "outputs": [],
   "source": [
    "filter_text = [word for word in words if not word in stop_words ]"
   ]
  },
  {
   "cell_type": "code",
   "execution_count": 103,
   "metadata": {
    "scrolled": true
   },
   "outputs": [
    {
     "data": {
      "text/plain": [
       "['project',\n",
       " 'gutenberg',\n",
       " 'ebook',\n",
       " 'republic',\n",
       " 'plato',\n",
       " 'ebook',\n",
       " 'use',\n",
       " 'anyone',\n",
       " 'anywhere',\n",
       " 'cost']"
      ]
     },
     "execution_count": 103,
     "metadata": {},
     "output_type": "execute_result"
    }
   ],
   "source": [
    "filter_text[:10]"
   ]
  },
  {
   "cell_type": "markdown",
   "metadata": {},
   "source": [
    "## Plot top 20 words"
   ]
  },
  {
   "cell_type": "code",
   "execution_count": 104,
   "metadata": {},
   "outputs": [],
   "source": [
    "fdist = nltk.FreqDist(filter_text)"
   ]
  },
  {
   "cell_type": "code",
   "execution_count": 105,
   "metadata": {},
   "outputs": [
    {
     "data": {
      "text/plain": [
       "nltk.probability.FreqDist"
      ]
     },
     "execution_count": 105,
     "metadata": {},
     "output_type": "execute_result"
    }
   ],
   "source": [
    "type(fdist)"
   ]
  },
  {
   "cell_type": "code",
   "execution_count": 125,
   "metadata": {},
   "outputs": [],
   "source": [
    "a= fdist.most_common(100)"
   ]
  },
  {
   "cell_type": "code",
   "execution_count": 142,
   "metadata": {
    "scrolled": true
   },
   "outputs": [
    {
     "data": {
      "text/plain": [
       "[('said', 1125),\n",
       " ('one', 935),\n",
       " ('may', 834),\n",
       " ('state', 700),\n",
       " ('good', 676),\n",
       " ('man', 637),\n",
       " ('would', 618),\n",
       " ('true', 588),\n",
       " ('like', 492),\n",
       " ('must', 483),\n",
       " ('yes', 469),\n",
       " ('men', 444),\n",
       " ('us', 436),\n",
       " ('say', 427),\n",
       " ('also', 405),\n",
       " ('life', 400),\n",
       " ('first', 384),\n",
       " ('another', 381),\n",
       " ('plato', 370),\n",
       " ('justice', 363),\n",
       " ('soul', 342),\n",
       " ('nature', 337),\n",
       " ('many', 296),\n",
       " ('knowledge', 293),\n",
       " ('well', 293),\n",
       " ('replied', 273),\n",
       " ('let', 271),\n",
       " ('truth', 267),\n",
       " ('whether', 266),\n",
       " ('shall', 266),\n",
       " ('certainly', 260),\n",
       " ('great', 260),\n",
       " ('things', 256),\n",
       " ('two', 253),\n",
       " ('world', 250),\n",
       " ('way', 239),\n",
       " ('mind', 234),\n",
       " ('evil', 233),\n",
       " ('make', 225),\n",
       " ('time', 217),\n",
       " ('see', 208),\n",
       " ('know', 206),\n",
       " ('right', 203),\n",
       " ('reason', 200),\n",
       " ('socrates', 193),\n",
       " ('human', 189),\n",
       " ('upon', 187),\n",
       " ('never', 187),\n",
       " ('cannot', 186),\n",
       " ('mean', 186)]"
      ]
     },
     "execution_count": 142,
     "metadata": {},
     "output_type": "execute_result"
    }
   ],
   "source": [
    "a[:50]"
   ]
  },
  {
   "cell_type": "code",
   "execution_count": 140,
   "metadata": {},
   "outputs": [],
   "source": [
    "fdist = nltk.FreqDist(word.lower() for word in (filter_text))"
   ]
  },
  {
   "cell_type": "code",
   "execution_count": 143,
   "metadata": {},
   "outputs": [
    {
     "data": {
      "image/png": "[encoded data removed]",
      "text/plain": [
       "<matplotlib.figure.Figure at 0x11b0b1b70>"
      ]
     },
     "metadata": {},
     "output_type": "display_data"
    }
   ],
   "source": [
    "plt.figure()\n",
    "fdist.plot(20)"
   ]
  },
  {
   "cell_type": "code",
   "execution_count": 117,
   "metadata": {},
   "outputs": [
    {
     "data": {
      "text/plain": [
       "[('said', 1125),\n",
       " ('one', 935),\n",
       " ('may', 834),\n",
       " ('state', 700),\n",
       " ('good', 676),\n",
       " ('man', 637),\n",
       " ('would', 618),\n",
       " ('true', 588),\n",
       " ('like', 492),\n",
       " ('must', 483),\n",
       " ('yes', 469),\n",
       " ('men', 444),\n",
       " ('us', 436),\n",
       " ('say', 427),\n",
       " ('also', 405),\n",
       " ('life', 400),\n",
       " ('first', 384),\n",
       " ('another', 381),\n",
       " ('plato', 370),\n",
       " ('justice', 363)]"
      ]
     },
     "execution_count": 117,
     "metadata": {},
     "output_type": "execute_result"
    }
   ],
   "source": [
    "a[:20]"
   ]
  },
  {
   "cell_type": "code",
   "execution_count": 133,
   "metadata": {},
   "outputs": [
    {
     "data": {
      "text/plain": [
       "['project',\n",
       " 'gutenberg',\n",
       " 'ebook',\n",
       " 'republic',\n",
       " 'plato',\n",
       " 'ebook',\n",
       " 'use',\n",
       " 'anyone',\n",
       " 'anywhere',\n",
       " 'cost',\n",
       " 'almost',\n",
       " 'restrictions',\n",
       " 'whatsoever',\n",
       " 'may',\n",
       " 'copy',\n",
       " 'give',\n",
       " 'away',\n",
       " 'use',\n",
       " 'terms',\n",
       " 'project']"
      ]
     },
     "execution_count": 133,
     "metadata": {},
     "output_type": "execute_result"
    }
   ],
   "source": [
    "filter_text[:20]"
   ]
  },
  {
   "cell_type": "markdown",
   "metadata": {},
   "source": [
    "## Dispersion Plot\n",
    "**Not sure why they aren't visualizing**"
   ]
  },
  {
   "cell_type": "code",
   "execution_count": 132,
   "metadata": {
    "scrolled": true
   },
   "outputs": [
    {
     "data": {
      "image/png": "[encoded data removed]",
      "text/plain": [
       "<matplotlib.figure.Figure at 0x1a295667b8>"
      ]
     },
     "metadata": {},
     "output_type": "display_data"
    }
   ],
   "source": [
    "text.dispersion_plot(filter_text[200:220])"
   ]
  },
  {
   "cell_type": "markdown",
   "metadata": {},
   "source": [
    "## Barplot"
   ]
  },
  {
   "cell_type": "code",
   "execution_count": 38,
   "metadata": {},
   "outputs": [],
   "source": [
    "import pandas as pd\n",
    "import matplotlib.pyplot as plt"
   ]
  },
  {
   "cell_type": "code",
   "execution_count": 39,
   "metadata": {},
   "outputs": [
    {
     "data": {
      "text/plain": [
       "<matplotlib.figure.Figure at 0x11b8e6b00>"
      ]
     },
     "metadata": {},
     "output_type": "display_data"
    }
   ],
   "source": [
    "plt.figure();"
   ]
  },
  {
   "cell_type": "code",
   "execution_count": 40,
   "metadata": {
    "collapsed": true
   },
   "outputs": [],
   "source": [
    "df = mostcommon"
   ]
  },
  {
   "cell_type": "code",
   "execution_count": 146,
   "metadata": {},
   "outputs": [
    {
     "ename": "SyntaxError",
     "evalue": "invalid syntax (<ipython-input-146-9a88509d2af5>, line 1)",
     "output_type": "error",
     "traceback": [
      "\u001b[0;36m  File \u001b[0;32m\"<ipython-input-146-9a88509d2af5>\"\u001b[0;36m, line \u001b[0;32m1\u001b[0m\n\u001b[0;31m    In []: df.iloc[filter_text[:20]].plot(kind='bar');\u001b[0m\n\u001b[0m        ^\u001b[0m\n\u001b[0;31mSyntaxError\u001b[0m\u001b[0;31m:\u001b[0m invalid syntax\n"
     ]
    }
   ],
   "source": [
    "In []: df.iloc[filter_text[:20]].plot(kind='bar');\n",
    "\n",
    "    #UNable to solve, I am confused as to what we are supposed to define as the parts of the chart since our \n",
    "    #Data isn't sorted into tables with categories"
   ]
  },
  {
   "cell_type": "markdown",
   "metadata": {},
   "source": [
    "## f) Examine bigrams"
   ]
  },
  {
   "cell_type": "code",
   "execution_count": 43,
   "metadata": {},
   "outputs": [],
   "source": [
    "top20 = fdist.most_common(20)"
   ]
  },
  {
   "cell_type": "code",
   "execution_count": 145,
   "metadata": {},
   "outputs": [
    {
     "ename": "SyntaxError",
     "evalue": "unexpected EOF while parsing (<ipython-input-145-cb4408134243>, line 1)",
     "output_type": "error",
     "traceback": [
      "\u001b[0;36m  File \u001b[0;32m\"<ipython-input-145-cb4408134243>\"\u001b[0;36m, line \u001b[0;32m1\u001b[0m\n\u001b[0;31m    list(nltk.bigrams(filter_text[:20])\u001b[0m\n\u001b[0m                                       ^\u001b[0m\n\u001b[0;31mSyntaxError\u001b[0m\u001b[0;31m:\u001b[0m unexpected EOF while parsing\n"
     ]
    }
   ],
   "source": [
    "list(nltk.bigrams(filter_text[:20])"
   ]
  },
  {
   "cell_type": "markdown",
   "metadata": {},
   "source": [
    "## bonus) Wordcloud"
   ]
  },
  {
   "cell_type": "code",
   "execution_count": 45,
   "metadata": {
    "collapsed": true
   },
   "outputs": [],
   "source": [
    "import pandas as pd\n",
    "from wordcloud import WordCloud, STOPWORDS"
   ]
  },
  {
   "cell_type": "code",
   "execution_count": 46,
   "metadata": {},
   "outputs": [],
   "source": [
    "wordcloud = WordCloud(background_color = 'black').generate(str(mostcommon))"
   ]
  },
  {
   "cell_type": "code",
   "execution_count": 47,
   "metadata": {},
   "outputs": [
    {
     "name": "stdout",
     "output_type": "stream",
     "text": [
      "<wordcloud.wordcloud.WordCloud object at 0x1a283dd080>\n"
     ]
    }
   ],
   "source": [
    "print(wordcloud)"
   ]
  },
  {
   "cell_type": "code",
   "execution_count": 48,
   "metadata": {
    "scrolled": true
   },
   "outputs": [
    {
     "data": {
      "text/plain": [
       "(-0.5, 399.5, 199.5, -0.5)"
      ]
     },
     "execution_count": 48,
     "metadata": {},
     "output_type": "execute_result"
    },
    {
     "data": {
      "image/png": "[encoded data removed]",
      "text/plain": [
       "<matplotlib.figure.Figure at 0x1a283dd908>"
      ]
     },
     "metadata": {},
     "output_type": "display_data"
    }
   ],
   "source": [
    "plt.figure(figsize = (15, 23))\n",
    "plt.imshow(wordcloud)\n",
    "plt.axis('off')"
   ]
  },
  {
   "cell_type": "markdown",
   "metadata": {},
   "source": [
    "## Bonus: Sentiment Analysis"
   ]
  },
  {
   "cell_type": "code",
   "execution_count": 148,
   "metadata": {
    "scrolled": true
   },
   "outputs": [
    {
     "data": {
      "text/plain": [
       "['project',\n",
       " 'gutenberg',\n",
       " 'ebook',\n",
       " 'republic',\n",
       " 'plato',\n",
       " 'ebook',\n",
       " 'use',\n",
       " 'anyone',\n",
       " 'anywhere',\n",
       " 'cost',\n",
       " 'almost',\n",
       " 'restrictions',\n",
       " 'whatsoever',\n",
       " 'may',\n",
       " 'copy',\n",
       " 'give',\n",
       " 'away',\n",
       " 'use',\n",
       " 'terms',\n",
       " 'project',\n",
       " 'gutenberg',\n",
       " 'license',\n",
       " 'included',\n",
       " 'ebook',\n",
       " 'online',\n",
       " 'www',\n",
       " 'gutenberg',\n",
       " 'org',\n",
       " 'title',\n",
       " 'republic',\n",
       " 'author',\n",
       " 'plato',\n",
       " 'translator',\n",
       " 'b',\n",
       " 'jowett',\n",
       " 'posting',\n",
       " 'date',\n",
       " 'august',\n",
       " '27',\n",
       " '2008',\n",
       " 'ebook',\n",
       " '1497',\n",
       " 'release',\n",
       " 'date',\n",
       " 'october',\n",
       " '1998',\n",
       " 'last',\n",
       " 'updated',\n",
       " 'june',\n",
       " '22',\n",
       " '2016',\n",
       " 'language',\n",
       " 'english',\n",
       " 'start',\n",
       " 'project',\n",
       " 'gutenberg',\n",
       " 'ebook',\n",
       " 'republic',\n",
       " 'produced',\n",
       " 'sue',\n",
       " 'asscher',\n",
       " 'republic',\n",
       " 'plato',\n",
       " 'translated',\n",
       " 'benjamin',\n",
       " 'jowett',\n",
       " 'note',\n",
       " 'republic',\n",
       " 'plato',\n",
       " 'jowett',\n",
       " 'etext',\n",
       " '150',\n",
       " 'introduction',\n",
       " 'analysis',\n",
       " 'republic',\n",
       " 'plato',\n",
       " 'longest',\n",
       " 'works',\n",
       " 'exception',\n",
       " 'laws',\n",
       " 'certainly',\n",
       " 'greatest',\n",
       " 'nearer',\n",
       " 'approaches',\n",
       " 'modern',\n",
       " 'metaphysics',\n",
       " 'philebus',\n",
       " 'sophist',\n",
       " 'politicus',\n",
       " 'statesman',\n",
       " 'ideal',\n",
       " 'form',\n",
       " 'institutions',\n",
       " 'state',\n",
       " 'clearly',\n",
       " 'drawn',\n",
       " 'laws',\n",
       " 'works',\n",
       " 'art',\n",
       " 'symposium',\n",
       " 'protagoras',\n",
       " 'higher',\n",
       " 'excellence',\n",
       " 'dialogue',\n",
       " 'plato',\n",
       " 'largeness',\n",
       " 'view',\n",
       " 'perfection',\n",
       " 'style',\n",
       " 'shows',\n",
       " 'equal',\n",
       " 'knowledge',\n",
       " 'world',\n",
       " 'contains',\n",
       " 'thoughts',\n",
       " 'new',\n",
       " 'well',\n",
       " 'old',\n",
       " 'one',\n",
       " 'age',\n",
       " 'nowhere',\n",
       " 'plato',\n",
       " 'deeper',\n",
       " 'irony',\n",
       " 'greater',\n",
       " 'wealth',\n",
       " 'humour',\n",
       " 'imagery',\n",
       " 'dramatic',\n",
       " 'power',\n",
       " 'writings',\n",
       " 'attempt',\n",
       " 'made',\n",
       " 'interweave',\n",
       " 'life',\n",
       " 'speculation',\n",
       " 'connect',\n",
       " 'politics',\n",
       " 'philosophy',\n",
       " 'republic',\n",
       " 'centre',\n",
       " 'around',\n",
       " 'dialogues',\n",
       " 'may',\n",
       " 'grouped',\n",
       " 'philosophy',\n",
       " 'reaches',\n",
       " 'highest',\n",
       " 'point',\n",
       " 'cp',\n",
       " 'especially',\n",
       " 'books',\n",
       " 'v',\n",
       " 'vi',\n",
       " 'vii',\n",
       " 'ancient',\n",
       " 'thinkers',\n",
       " 'ever',\n",
       " 'attained',\n",
       " 'plato',\n",
       " 'among',\n",
       " 'greeks',\n",
       " 'like',\n",
       " 'bacon',\n",
       " 'among',\n",
       " 'moderns',\n",
       " 'first',\n",
       " 'conceived',\n",
       " 'method',\n",
       " 'knowledge',\n",
       " 'although',\n",
       " 'neither',\n",
       " 'always',\n",
       " 'distinguished',\n",
       " 'bare',\n",
       " 'outline',\n",
       " 'form',\n",
       " 'substance',\n",
       " 'truth',\n",
       " 'content',\n",
       " 'abstraction',\n",
       " 'science',\n",
       " 'yet',\n",
       " 'realized',\n",
       " 'greatest',\n",
       " 'metaphysical',\n",
       " 'genius',\n",
       " 'world',\n",
       " 'seen',\n",
       " 'ancient',\n",
       " 'thinker',\n",
       " 'germs',\n",
       " 'future',\n",
       " 'knowledge',\n",
       " 'contained',\n",
       " 'sciences',\n",
       " 'logic',\n",
       " 'psychology',\n",
       " 'supplied',\n",
       " 'many',\n",
       " 'instruments',\n",
       " 'thought',\n",
       " 'ages',\n",
       " 'based',\n",
       " 'upon',\n",
       " 'analyses',\n",
       " 'socrates',\n",
       " 'plato',\n",
       " 'principles',\n",
       " 'definition',\n",
       " 'law',\n",
       " 'contradiction',\n",
       " 'fallacy',\n",
       " 'arguing',\n",
       " 'circle',\n",
       " 'distinction',\n",
       " 'essence',\n",
       " 'accidents',\n",
       " 'thing',\n",
       " 'notion',\n",
       " 'means',\n",
       " 'ends',\n",
       " 'causes',\n",
       " 'conditions',\n",
       " 'also',\n",
       " 'division',\n",
       " 'mind',\n",
       " 'rational',\n",
       " 'concupiscent',\n",
       " 'irascible',\n",
       " 'elements',\n",
       " 'pleasures',\n",
       " 'desires',\n",
       " 'necessary',\n",
       " 'unnecessary',\n",
       " 'great',\n",
       " 'forms',\n",
       " 'thought',\n",
       " 'found',\n",
       " 'republic',\n",
       " 'probably',\n",
       " 'first',\n",
       " 'invented',\n",
       " 'plato',\n",
       " 'greatest',\n",
       " 'logical',\n",
       " 'truths',\n",
       " 'one',\n",
       " 'writers',\n",
       " 'philosophy',\n",
       " 'apt',\n",
       " 'lose',\n",
       " 'sight',\n",
       " 'difference',\n",
       " 'words',\n",
       " 'things',\n",
       " 'strenuously',\n",
       " 'insisted',\n",
       " 'cp',\n",
       " 'rep',\n",
       " 'polit',\n",
       " 'cratyl',\n",
       " '435',\n",
       " '436',\n",
       " 'ff',\n",
       " 'although',\n",
       " 'always',\n",
       " 'avoided',\n",
       " 'confusion',\n",
       " 'writings',\n",
       " 'e',\n",
       " 'g',\n",
       " 'rep',\n",
       " 'bind',\n",
       " 'truth',\n",
       " 'logical',\n",
       " 'formulae',\n",
       " 'logic',\n",
       " 'still',\n",
       " 'veiled',\n",
       " 'metaphysics',\n",
       " 'science',\n",
       " 'imagines',\n",
       " 'contemplate',\n",
       " 'truth',\n",
       " 'existence',\n",
       " 'unlike',\n",
       " 'doctrine',\n",
       " 'syllogism',\n",
       " 'aristotle',\n",
       " 'claims',\n",
       " 'discovered',\n",
       " 'soph',\n",
       " 'elenchi',\n",
       " '33',\n",
       " '18',\n",
       " 'neither',\n",
       " 'must',\n",
       " 'forget',\n",
       " 'republic',\n",
       " 'third',\n",
       " 'part',\n",
       " 'still',\n",
       " 'larger',\n",
       " 'design',\n",
       " 'included',\n",
       " 'ideal',\n",
       " 'history',\n",
       " 'athens',\n",
       " 'well',\n",
       " 'political',\n",
       " 'physical',\n",
       " 'philosophy',\n",
       " 'fragment',\n",
       " 'critias',\n",
       " 'given',\n",
       " 'birth',\n",
       " 'world',\n",
       " 'famous',\n",
       " 'fiction',\n",
       " 'second',\n",
       " 'importance',\n",
       " 'tale',\n",
       " 'troy',\n",
       " 'legend',\n",
       " 'arthur',\n",
       " 'said',\n",
       " 'fact',\n",
       " 'inspired',\n",
       " 'early',\n",
       " 'navigators',\n",
       " 'sixteenth',\n",
       " 'century',\n",
       " 'mythical',\n",
       " 'tale',\n",
       " 'subject',\n",
       " 'history',\n",
       " 'wars',\n",
       " 'athenians',\n",
       " 'island',\n",
       " 'atlantis',\n",
       " 'supposed',\n",
       " 'founded',\n",
       " 'upon',\n",
       " 'unfinished',\n",
       " 'poem',\n",
       " 'solon',\n",
       " 'would',\n",
       " 'stood',\n",
       " 'relation',\n",
       " 'writings',\n",
       " 'logographers',\n",
       " 'poems',\n",
       " 'homer',\n",
       " 'would',\n",
       " 'told',\n",
       " 'struggle',\n",
       " 'liberty',\n",
       " 'cp',\n",
       " 'tim',\n",
       " '25',\n",
       " 'c',\n",
       " 'intended',\n",
       " 'represent',\n",
       " 'conflict',\n",
       " 'persia',\n",
       " 'hellas',\n",
       " 'may',\n",
       " 'judge',\n",
       " 'noble',\n",
       " 'commencement',\n",
       " 'timaeus',\n",
       " 'fragment',\n",
       " 'critias',\n",
       " 'third',\n",
       " 'book',\n",
       " 'laws',\n",
       " 'manner',\n",
       " 'plato',\n",
       " 'would',\n",
       " 'treated',\n",
       " 'high',\n",
       " 'argument',\n",
       " 'guess',\n",
       " 'great',\n",
       " 'design',\n",
       " 'abandoned',\n",
       " 'perhaps',\n",
       " 'plato',\n",
       " 'became',\n",
       " 'sensible',\n",
       " 'incongruity',\n",
       " 'fictitious',\n",
       " 'history',\n",
       " 'lost',\n",
       " 'interest',\n",
       " 'advancing',\n",
       " 'years',\n",
       " 'forbade',\n",
       " 'completion',\n",
       " 'may',\n",
       " 'please',\n",
       " 'fancy',\n",
       " 'imaginary',\n",
       " 'narrative',\n",
       " 'ever',\n",
       " 'finished',\n",
       " 'found',\n",
       " 'plato',\n",
       " 'sympathising',\n",
       " 'struggle',\n",
       " 'hellenic',\n",
       " 'independence',\n",
       " 'cp',\n",
       " 'laws',\n",
       " 'iii',\n",
       " '698',\n",
       " 'ff',\n",
       " 'singing',\n",
       " 'hymn',\n",
       " 'triumph',\n",
       " 'marathon',\n",
       " 'salamis',\n",
       " 'perhaps',\n",
       " 'making',\n",
       " 'reflection',\n",
       " 'herodotus',\n",
       " 'v',\n",
       " '78',\n",
       " 'contemplates',\n",
       " 'growth',\n",
       " 'athenian',\n",
       " 'empire',\n",
       " 'brave',\n",
       " 'thing',\n",
       " 'freedom',\n",
       " 'speech',\n",
       " 'made',\n",
       " 'athenians',\n",
       " 'far',\n",
       " 'exceed',\n",
       " 'every',\n",
       " 'state',\n",
       " 'hellas',\n",
       " 'greatness',\n",
       " 'probably',\n",
       " 'attributing',\n",
       " 'victory',\n",
       " 'ancient',\n",
       " 'good',\n",
       " 'order',\n",
       " 'athens',\n",
       " 'favor',\n",
       " 'apollo',\n",
       " 'athene',\n",
       " 'cp',\n",
       " 'introd',\n",
       " 'critias',\n",
       " 'plato',\n",
       " 'may',\n",
       " 'regarded',\n",
       " 'captain',\n",
       " 'arhchegoz',\n",
       " 'leader',\n",
       " 'goodly',\n",
       " 'band',\n",
       " 'followers',\n",
       " 'republic',\n",
       " 'found',\n",
       " 'original',\n",
       " 'cicero',\n",
       " 'de',\n",
       " 'republica',\n",
       " 'st',\n",
       " 'augustine',\n",
       " 'city',\n",
       " 'god',\n",
       " 'utopia',\n",
       " 'sir',\n",
       " 'thomas',\n",
       " 'numerous',\n",
       " 'imaginary',\n",
       " 'states',\n",
       " 'framed',\n",
       " 'upon',\n",
       " 'model',\n",
       " 'extent',\n",
       " 'aristotle',\n",
       " 'aristotelian',\n",
       " 'school',\n",
       " 'indebted',\n",
       " 'politics',\n",
       " 'little',\n",
       " 'recognised',\n",
       " 'recognition',\n",
       " 'necessary',\n",
       " 'made',\n",
       " 'aristotle',\n",
       " 'two',\n",
       " 'philosophers',\n",
       " 'common',\n",
       " 'conscious',\n",
       " 'probably',\n",
       " 'elements',\n",
       " 'plato',\n",
       " 'remain',\n",
       " 'still',\n",
       " 'undetected',\n",
       " 'aristotle',\n",
       " 'english',\n",
       " 'philosophy',\n",
       " 'many',\n",
       " 'affinities',\n",
       " 'may',\n",
       " 'traced',\n",
       " 'works',\n",
       " 'cambridge',\n",
       " 'platonists',\n",
       " 'great',\n",
       " 'original',\n",
       " 'writers',\n",
       " 'like',\n",
       " 'berkeley',\n",
       " 'coleridge',\n",
       " 'plato',\n",
       " 'ideas',\n",
       " 'truth',\n",
       " 'higher',\n",
       " 'experience',\n",
       " 'mind',\n",
       " 'bears',\n",
       " 'witness',\n",
       " 'conviction',\n",
       " 'generation',\n",
       " 'enthusiastically',\n",
       " 'asserted',\n",
       " 'perhaps',\n",
       " 'gaining',\n",
       " 'ground',\n",
       " 'greek',\n",
       " 'authors',\n",
       " 'renaissance',\n",
       " 'brought',\n",
       " 'new',\n",
       " 'life',\n",
       " 'world',\n",
       " 'plato',\n",
       " 'greatest',\n",
       " 'influence',\n",
       " 'republic',\n",
       " 'plato',\n",
       " 'also',\n",
       " 'first',\n",
       " 'treatise',\n",
       " 'upon',\n",
       " 'education',\n",
       " 'writings',\n",
       " 'milton',\n",
       " 'locke',\n",
       " 'rousseau',\n",
       " 'jean',\n",
       " 'paul',\n",
       " 'goethe',\n",
       " 'legitimate',\n",
       " 'descendants',\n",
       " 'like',\n",
       " 'dante',\n",
       " 'bunyan',\n",
       " 'revelation',\n",
       " 'another',\n",
       " 'life',\n",
       " 'like',\n",
       " 'bacon',\n",
       " 'profoundly',\n",
       " 'impressed',\n",
       " 'unity',\n",
       " 'knowledge',\n",
       " 'early',\n",
       " 'church',\n",
       " 'exercised',\n",
       " 'real',\n",
       " 'influence',\n",
       " 'theology',\n",
       " 'revival',\n",
       " 'literature',\n",
       " 'politics',\n",
       " 'even',\n",
       " 'fragments',\n",
       " 'words',\n",
       " 'repeated',\n",
       " 'second',\n",
       " 'hand',\n",
       " 'symp',\n",
       " '215',\n",
       " 'ages',\n",
       " 'ravished',\n",
       " 'hearts',\n",
       " 'men',\n",
       " 'seen',\n",
       " 'reflected',\n",
       " 'higher',\n",
       " 'nature',\n",
       " 'father',\n",
       " 'idealism',\n",
       " 'philosophy',\n",
       " 'politics',\n",
       " 'literature',\n",
       " 'many',\n",
       " 'latest',\n",
       " 'conceptions',\n",
       " 'modern',\n",
       " 'thinkers',\n",
       " 'statesmen',\n",
       " 'unity',\n",
       " 'knowledge',\n",
       " 'reign',\n",
       " 'law',\n",
       " 'equality',\n",
       " 'sexes',\n",
       " 'anticipated',\n",
       " 'dream',\n",
       " 'argument',\n",
       " 'republic',\n",
       " 'search',\n",
       " 'justice',\n",
       " 'nature',\n",
       " 'first',\n",
       " 'hinted',\n",
       " 'cephalus',\n",
       " 'blameless',\n",
       " 'old',\n",
       " 'man',\n",
       " 'discussed',\n",
       " 'basis',\n",
       " 'proverbial',\n",
       " 'morality',\n",
       " 'socrates',\n",
       " 'polemarchus',\n",
       " 'caricatured',\n",
       " 'thrasymachus',\n",
       " 'partially',\n",
       " 'explained',\n",
       " 'socrates',\n",
       " 'reduced',\n",
       " 'abstraction',\n",
       " 'glaucon',\n",
       " 'adeimantus',\n",
       " 'become',\n",
       " 'invisible',\n",
       " 'individual',\n",
       " 'reappears',\n",
       " 'length',\n",
       " 'ideal',\n",
       " 'state',\n",
       " 'constructed',\n",
       " 'socrates',\n",
       " 'first',\n",
       " 'care',\n",
       " 'rulers',\n",
       " 'education',\n",
       " 'outline',\n",
       " 'drawn',\n",
       " 'old',\n",
       " 'hellenic',\n",
       " 'model',\n",
       " 'providing',\n",
       " 'improved',\n",
       " 'religion',\n",
       " 'morality',\n",
       " 'simplicity',\n",
       " 'music',\n",
       " 'gymnastic',\n",
       " 'manlier',\n",
       " 'strain',\n",
       " 'poetry',\n",
       " 'greater',\n",
       " 'harmony',\n",
       " 'individual',\n",
       " 'state',\n",
       " 'thus',\n",
       " 'led',\n",
       " 'conception',\n",
       " 'higher',\n",
       " 'state',\n",
       " 'man',\n",
       " 'calls',\n",
       " 'anything',\n",
       " 'neither',\n",
       " 'marrying',\n",
       " 'giving',\n",
       " 'marriage',\n",
       " 'kings',\n",
       " 'philosophers',\n",
       " 'philosophers',\n",
       " 'kings',\n",
       " 'another',\n",
       " 'higher',\n",
       " 'education',\n",
       " 'intellectual',\n",
       " 'well',\n",
       " 'moral',\n",
       " 'religious',\n",
       " 'science',\n",
       " 'well',\n",
       " 'art',\n",
       " 'youth',\n",
       " 'whole',\n",
       " 'life',\n",
       " 'state',\n",
       " 'hardly',\n",
       " 'realized',\n",
       " 'world',\n",
       " 'quickly',\n",
       " 'degenerates',\n",
       " 'perfect',\n",
       " 'ideal',\n",
       " 'succeeds',\n",
       " 'government',\n",
       " 'soldier',\n",
       " 'lover',\n",
       " 'honour',\n",
       " 'declining',\n",
       " 'democracy',\n",
       " 'democracy',\n",
       " 'tyranny',\n",
       " 'imaginary',\n",
       " 'regular',\n",
       " 'order',\n",
       " 'much',\n",
       " 'resemblance',\n",
       " 'actual',\n",
       " 'facts',\n",
       " 'wheel',\n",
       " 'come',\n",
       " 'full',\n",
       " 'circle',\n",
       " 'begin',\n",
       " 'new',\n",
       " 'period',\n",
       " 'human',\n",
       " 'life',\n",
       " 'passed',\n",
       " 'best',\n",
       " 'worst',\n",
       " 'end',\n",
       " 'subject',\n",
       " 'changed',\n",
       " 'old',\n",
       " 'quarrel',\n",
       " 'poetry',\n",
       " 'philosophy',\n",
       " 'lightly',\n",
       " 'treated',\n",
       " 'earlier',\n",
       " 'books',\n",
       " 'republic',\n",
       " 'resumed',\n",
       " 'fought',\n",
       " 'conclusion',\n",
       " 'poetry',\n",
       " 'discovered',\n",
       " 'imitation',\n",
       " 'thrice',\n",
       " 'removed',\n",
       " 'truth',\n",
       " 'homer',\n",
       " 'well',\n",
       " 'dramatic',\n",
       " 'poets',\n",
       " 'condemned',\n",
       " 'imitator',\n",
       " 'sent',\n",
       " 'banishment',\n",
       " 'along',\n",
       " 'idea',\n",
       " 'state',\n",
       " 'supplemented',\n",
       " 'revelation',\n",
       " 'future',\n",
       " 'life',\n",
       " 'division',\n",
       " 'books',\n",
       " 'like',\n",
       " 'similar',\n",
       " 'divisions',\n",
       " 'cp',\n",
       " 'sir',\n",
       " 'g',\n",
       " 'c',\n",
       " 'lewis',\n",
       " 'classical',\n",
       " 'museum',\n",
       " 'vol',\n",
       " 'ii',\n",
       " 'p',\n",
       " '1',\n",
       " 'probably',\n",
       " 'later',\n",
       " 'age',\n",
       " 'plato',\n",
       " 'natural',\n",
       " 'divisions',\n",
       " 'five',\n",
       " 'number',\n",
       " '1',\n",
       " 'book',\n",
       " 'first',\n",
       " 'half',\n",
       " 'book',\n",
       " 'ii',\n",
       " 'paragraph',\n",
       " 'beginning',\n",
       " 'always',\n",
       " 'admired',\n",
       " 'genius',\n",
       " 'glaucon',\n",
       " 'adeimantus',\n",
       " 'introductory',\n",
       " 'first',\n",
       " 'book',\n",
       " 'containing',\n",
       " 'refutation',\n",
       " 'popular',\n",
       " 'sophistical',\n",
       " 'notions',\n",
       " 'justice',\n",
       " 'concluding',\n",
       " 'like',\n",
       " 'earlier',\n",
       " 'dialogues',\n",
       " 'without',\n",
       " 'arriving',\n",
       " 'definite',\n",
       " 'result',\n",
       " 'appended',\n",
       " 'restatement',\n",
       " 'nature',\n",
       " 'justice',\n",
       " 'according',\n",
       " 'common',\n",
       " 'opinion',\n",
       " 'answer',\n",
       " 'demanded',\n",
       " 'question',\n",
       " 'justice',\n",
       " 'stripped',\n",
       " 'appearances',\n",
       " 'second',\n",
       " 'division',\n",
       " '2',\n",
       " 'includes',\n",
       " 'remainder',\n",
       " 'second',\n",
       " 'whole',\n",
       " 'third',\n",
       " 'fourth',\n",
       " 'books',\n",
       " 'mainly',\n",
       " 'occupied',\n",
       " 'construction',\n",
       " 'first',\n",
       " 'state',\n",
       " 'first',\n",
       " 'education',\n",
       " 'third',\n",
       " 'division',\n",
       " '3',\n",
       " 'consists',\n",
       " 'fifth',\n",
       " 'sixth',\n",
       " 'seventh',\n",
       " 'books',\n",
       " 'philosophy',\n",
       " 'rather',\n",
       " 'justice',\n",
       " 'subject',\n",
       " 'enquiry',\n",
       " 'second',\n",
       " 'state',\n",
       " 'constructed',\n",
       " 'principles',\n",
       " 'communism',\n",
       " 'ruled',\n",
       " 'philosophers',\n",
       " 'contemplation',\n",
       " 'idea',\n",
       " 'good',\n",
       " 'takes',\n",
       " 'place',\n",
       " 'social',\n",
       " 'political',\n",
       " 'virtues',\n",
       " 'eighth',\n",
       " 'ninth',\n",
       " 'books',\n",
       " '4',\n",
       " 'perversions',\n",
       " 'states',\n",
       " 'individuals',\n",
       " 'correspond',\n",
       " 'reviewed',\n",
       " 'succession',\n",
       " 'nature',\n",
       " 'pleasure',\n",
       " 'principle',\n",
       " 'tyranny',\n",
       " 'analysed',\n",
       " 'individual',\n",
       " 'man',\n",
       " 'tenth',\n",
       " 'book',\n",
       " '5',\n",
       " 'conclusion',\n",
       " 'whole',\n",
       " 'relations',\n",
       " 'philosophy',\n",
       " 'poetry',\n",
       " 'finally',\n",
       " 'determined',\n",
       " 'happiness',\n",
       " 'citizens',\n",
       " 'life',\n",
       " 'assured',\n",
       " 'crowned',\n",
       " 'vision',\n",
       " 'another',\n",
       " 'general',\n",
       " 'division',\n",
       " 'two',\n",
       " 'parts',\n",
       " 'may',\n",
       " 'adopted',\n",
       " 'first',\n",
       " 'books',\n",
       " 'iv',\n",
       " 'containing',\n",
       " 'description',\n",
       " 'state',\n",
       " 'framed',\n",
       " 'generally',\n",
       " 'accordance',\n",
       " 'hellenic',\n",
       " 'notions',\n",
       " 'religion',\n",
       " 'morality',\n",
       " 'second',\n",
       " 'books',\n",
       " 'v',\n",
       " 'x',\n",
       " 'hellenic',\n",
       " 'state',\n",
       " 'transformed',\n",
       " 'ideal',\n",
       " 'kingdom',\n",
       " 'philosophy',\n",
       " 'governments',\n",
       " 'perversions',\n",
       " 'two',\n",
       " 'points',\n",
       " 'view',\n",
       " 'really',\n",
       " 'opposed',\n",
       " 'opposition',\n",
       " 'veiled',\n",
       " 'genius',\n",
       " 'plato',\n",
       " 'republic',\n",
       " 'like',\n",
       " 'phaedrus',\n",
       " 'see',\n",
       " 'introduction',\n",
       " 'phaedrus',\n",
       " 'imperfect',\n",
       " 'whole',\n",
       " 'higher',\n",
       " 'light',\n",
       " 'philosophy',\n",
       " 'breaks',\n",
       " 'regularity',\n",
       " 'hellenic',\n",
       " 'temple',\n",
       " 'last',\n",
       " 'fades',\n",
       " 'away',\n",
       " 'heavens',\n",
       " 'whether',\n",
       " 'imperfection',\n",
       " 'structure',\n",
       " 'arises',\n",
       " 'enlargement',\n",
       " 'plan',\n",
       " 'imperfect',\n",
       " 'reconcilement',\n",
       " 'writer',\n",
       " 'mind',\n",
       " 'struggling',\n",
       " 'elements',\n",
       " 'thought',\n",
       " 'first',\n",
       " 'brought']"
      ]
     },
     "execution_count": 148,
     "metadata": {},
     "output_type": "execute_result"
    }
   ],
   "source": [
    "filter_text[:1000]"
   ]
  },
  {
   "cell_type": "code",
   "execution_count": 149,
   "metadata": {
    "collapsed": true
   },
   "outputs": [],
   "source": [
    "testing_set = dos_text[:1000]"
   ]
  },
  {
   "cell_type": "code",
   "execution_count": 150,
   "metadata": {
    "collapsed": true
   },
   "outputs": [],
   "source": [
    "training_set = dos_text[:1000]"
   ]
  },
  {
   "cell_type": "code",
   "execution_count": 152,
   "metadata": {
    "scrolled": true
   },
   "outputs": [
    {
     "ename": "ValueError",
     "evalue": "not enough values to unpack (expected 2, got 1)",
     "output_type": "error",
     "traceback": [
      "\u001b[0;31m---------------------------------------------------------------------------\u001b[0m",
      "\u001b[0;31mValueError\u001b[0m                                Traceback (most recent call last)",
      "\u001b[0;32m<ipython-input-152-430baf8ce147>\u001b[0m in \u001b[0;36m<module>\u001b[0;34m()\u001b[0m\n\u001b[0;32m----> 1\u001b[0;31m \u001b[0mclassifier\u001b[0m \u001b[0;34m=\u001b[0m \u001b[0mnltk\u001b[0m\u001b[0;34m.\u001b[0m\u001b[0mNaiveBayesClassifier\u001b[0m\u001b[0;34m.\u001b[0m\u001b[0mtrain\u001b[0m\u001b[0;34m(\u001b[0m\u001b[0mtraining_set\u001b[0m\u001b[0;34m)\u001b[0m\u001b[0;34m\u001b[0m\u001b[0m\n\u001b[0m",
      "\u001b[0;32m~/anaconda3/lib/python3.6/site-packages/nltk/classify/naivebayes.py\u001b[0m in \u001b[0;36mtrain\u001b[0;34m(cls, labeled_featuresets, estimator)\u001b[0m\n\u001b[1;32m    192\u001b[0m         \u001b[0;31m# Count up how many times each feature value occurred, given\u001b[0m\u001b[0;34m\u001b[0m\u001b[0;34m\u001b[0m\u001b[0m\n\u001b[1;32m    193\u001b[0m         \u001b[0;31m# the label and featurename.\u001b[0m\u001b[0;34m\u001b[0m\u001b[0;34m\u001b[0m\u001b[0m\n\u001b[0;32m--> 194\u001b[0;31m         \u001b[0;32mfor\u001b[0m \u001b[0mfeatureset\u001b[0m\u001b[0;34m,\u001b[0m \u001b[0mlabel\u001b[0m \u001b[0;32min\u001b[0m \u001b[0mlabeled_featuresets\u001b[0m\u001b[0;34m:\u001b[0m\u001b[0;34m\u001b[0m\u001b[0m\n\u001b[0m\u001b[1;32m    195\u001b[0m             \u001b[0mlabel_freqdist\u001b[0m\u001b[0;34m[\u001b[0m\u001b[0mlabel\u001b[0m\u001b[0;34m]\u001b[0m \u001b[0;34m+=\u001b[0m \u001b[0;36m1\u001b[0m\u001b[0;34m\u001b[0m\u001b[0m\n\u001b[1;32m    196\u001b[0m             \u001b[0;32mfor\u001b[0m \u001b[0mfname\u001b[0m\u001b[0;34m,\u001b[0m \u001b[0mfval\u001b[0m \u001b[0;32min\u001b[0m \u001b[0mfeatureset\u001b[0m\u001b[0;34m.\u001b[0m\u001b[0mitems\u001b[0m\u001b[0;34m(\u001b[0m\u001b[0;34m)\u001b[0m\u001b[0;34m:\u001b[0m\u001b[0;34m\u001b[0m\u001b[0m\n",
      "\u001b[0;31mValueError\u001b[0m: not enough values to unpack (expected 2, got 1)"
     ]
    }
   ],
   "source": [
    "classifier = nltk.NaiveBayesClassifier.train(training_set)\n"
   ]
  },
  {
   "cell_type": "code",
   "execution_count": 64,
   "metadata": {},
   "outputs": [
    {
     "ename": "NameError",
     "evalue": "name 'classifier' is not defined",
     "output_type": "error",
     "traceback": [
      "\u001b[0;31m---------------------------------------------------------------------------\u001b[0m",
      "\u001b[0;31mNameError\u001b[0m                                 Traceback (most recent call last)",
      "\u001b[0;32m<ipython-input-64-4d0727d8e19a>\u001b[0m in \u001b[0;36m<module>\u001b[0;34m()\u001b[0m\n\u001b[0;32m----> 1\u001b[0;31m \u001b[0mprint\u001b[0m\u001b[0;34m(\u001b[0m\u001b[0;34m\"Classifier accuracy percent:\"\u001b[0m\u001b[0;34m,\u001b[0m\u001b[0;34m(\u001b[0m\u001b[0mnltk\u001b[0m\u001b[0;34m.\u001b[0m\u001b[0mclassify\u001b[0m\u001b[0;34m.\u001b[0m\u001b[0maccuracy\u001b[0m\u001b[0;34m(\u001b[0m\u001b[0mclassifier\u001b[0m\u001b[0;34m,\u001b[0m \u001b[0mtesting_set\u001b[0m\u001b[0;34m)\u001b[0m\u001b[0;34m)\u001b[0m\u001b[0;34m*\u001b[0m\u001b[0;36m100\u001b[0m\u001b[0;34m)\u001b[0m\u001b[0;34m\u001b[0m\u001b[0m\n\u001b[0m",
      "\u001b[0;31mNameError\u001b[0m: name 'classifier' is not defined"
     ]
    }
   ],
   "source": [
    "print(\"Classifier accuracy percent:\",(nltk.classify.accuracy(classifier, testing_set))*100)"
   ]
  },
  {
   "cell_type": "code",
   "execution_count": null,
   "metadata": {
    "collapsed": true
   },
   "outputs": [],
   "source": []
  },
  {
   "cell_type": "code",
   "execution_count": null,
   "metadata": {
    "collapsed": true
   },
   "outputs": [],
   "source": []
  },
  {
   "cell_type": "code",
   "execution_count": null,
   "metadata": {
    "collapsed": true
   },
   "outputs": [],
   "source": []
  },
  {
   "cell_type": "code",
   "execution_count": null,
   "metadata": {
    "collapsed": true
   },
   "outputs": [],
   "source": []
  }
 ],
 "metadata": {
  "kernelspec": {
   "display_name": "Python 3",
   "language": "python",
   "name": "python3"
  },
  "language_info": {
   "codemirror_mode": {
    "name": "ipython",
    "version": 3
   },
   "file_extension": ".py",
   "mimetype": "text/x-python",
   "name": "python",
   "nbconvert_exporter": "python",
   "pygments_lexer": "ipython3",
   "version": "3.6.3"
  }
 },
 "nbformat": 4,
 "nbformat_minor": 2
}
